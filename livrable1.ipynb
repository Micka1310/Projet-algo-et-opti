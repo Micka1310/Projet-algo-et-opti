{
 "cells": [
  {
   "cell_type": "markdown",
   "id": "73fa017f-7ca9-4a2b-bc36-ab373b0d1bdc",
   "metadata": {},
   "source": [
    "<center><img src=\"images/logo_CESI.png\" width=\"250\"></center>"
   ]
  },
  {
   "cell_type": "markdown",
   "id": "f0b9dd1c-b327-461e-a2ac-bba66f2208e6",
   "metadata": {},
   "source": [
    "# <center><b>Projet algorithmique et optimisation combinatoire</b></center>\n",
    "# <center><b>Livrable 1</b></center>\n",
    "\n",
    "<p><center><b><u>Groupe de projet</u> :</b></center></p>\n",
    "<center><b>Mickaël King</b></center>\n",
    "<center><b>(À compléter)</b></center>\n",
    "<center><b>(À compléter)</b></center>\n",
    "<center><b>(À compléter)</b></center>\n",
    "\n",
    "<p><center><b><u>Tuteur</u> : Mohamed Belgacem</b></center></p>\n",
    "<p><center><b><u>Promotion</u> : FISE A3 Informatique</b></center></p>"
   ]
  },
  {
   "cell_type": "markdown",
   "id": "35079a7a-690b-4114-b1e8-57a822a84c2f",
   "metadata": {},
   "source": [
    "# Sommaire\n",
    "\n",
    "1. [Contexte](#1.-Contexte)\n",
    "2. [Problématique](#2.-Problematique)\n",
    "3. [Propriété théorique](#3.-Propriete-theorique)\n",
    "4. [Contraintes](#4.-Contraintes)\n",
    "5. [Représentation des données](#5.-Representation-des-donnees)\n",
    "    * a. [Modélisation sous forme de graphe](#a.-Modelisation-sous-forme-de-graphe)\n",
    "    * b. [Modélisation du temps de livraison](#b.-Modelisation-du-temps-de-livraison)\n",
    "    * c. [Modélisation du traffic dynamique](#c.-Modelisation-du-traffic-dynamique)\n",
    "    * d. [Modélisation des points de collectes](#d.-Modelisation-des-points-de-collectes)\n",
    "    * e. [Modélisation des camions](#e.-Modelisation-des-camions)\n",
    "6. [Complexité du problème](#6.-Complexite-du-probleme)\n",
    "7. [Conclusion](#7.-conclusion)\n",
    "8. [Bibliographie](#8.-Bibliographie)"
   ]
  },
  {
   "cell_type": "markdown",
   "id": "79ca753a-8288-41d7-9d2f-c70e29918d0c",
   "metadata": {},
   "source": [
    "# 1. Contexte"
   ]
  },
  {
   "cell_type": "markdown",
   "id": "9ff47f78-c0ed-43aa-a62e-b3e40ae644cc",
   "metadata": {},
   "source": [
    "L’ADEME cherche à développer de nouvelles solutions de mobilité afin de réduire l’impact environnemental des transports.\n",
    "\n",
    "Dans ce cadre notre structure CesiCDP met en place une équipe composée de quatre personnes pour concevoir une méthode d’optimisation de tournées de livraison intégrant certaines contraintes.\n",
    "\n",
    "L’objectif est de proposer une solution efficace et durable permettant de réduire les émissions liées aux déplacements logistiques en optimisant des trajets plus court."
   ]
  },
  {
   "cell_type": "markdown",
   "id": "8cbc4307-9cda-4127-8786-27a13a64213e",
   "metadata": {},
   "source": [
    "# 2. Problematique"
   ]
  },
  {
   "cell_type": "markdown",
   "id": "78999a34-c0c6-4f4b-b964-b48ce8179aee",
   "metadata": {},
   "source": [
    "(À compléter -> Ryan)"
   ]
  },
  {
   "cell_type": "markdown",
   "id": "1673051a-72d5-4655-98b8-1797565583c7",
   "metadata": {},
   "source": [
    "# 3. Propriete theorique"
   ]
  },
  {
   "cell_type": "markdown",
   "id": "5d863a1c-4b5d-4828-91fa-11b9c27a27d9",
   "metadata": {},
   "source": [
    "(À compléter -> Oumar)"
   ]
  },
  {
   "cell_type": "markdown",
   "id": "3ccb3633-0e0a-47ac-b4bf-45ecdbdc0235",
   "metadata": {},
   "source": [
    "# 4. Contraintes"
   ]
  },
  {
   "cell_type": "markdown",
   "id": "e630c297-a78a-4f0b-864e-80ef70f9d5df",
   "metadata": {},
   "source": [
    "\n",
    "\n",
    "Pour rendre le problème plus réaliste et proche des situations industrielles, plusieurs contraintes peuvent être ajoutées au modèle de base du problème de tournée de véhicules (VRP – Vehicle Routing Problem).\n",
    "\n",
    "Chaque contrainte peut exister sous deux niveaux de complexité :\n",
    "- une <b>version de base</b> : simple à modéliser.\n",
    "- une <b>version avancée</b> : plus réaliste mais plus difficile à résoudre.\n",
    "\n",
    "<center><img src=\"images/image.png\" width=\"250\"></center>\n",
    "\n",
    "<u><b>1-Fenêtres temporelles</b></u>\n",
    "\n",
    "<b>-Version de base</b>: Dans cette version chaque client possède un créneau horaire fixe pendant lequel la livraison doit être effectuée.Le véhicule ne peut pas livrer avant ou après ce créneau.Si le camion arrive trop tôt ou trop tard la tournée est considérée comme non valide.\n",
    "\n",
    "<b>-Exemple </b>:\n",
    "Si un client accepte les livraisons uniquement entre 10h et 12h, le camion doit arriver dans cette plage précise.\n",
    "Arriver à 9h50 ou 12h10 est interdit.\n",
    "\n",
    "<b>-Version avancée</b>:Ici le véhicule peut arriver en avance et attendre l’ouverture du créneau pour effectuer la livraison.En gros les chauffeurs peuvent patienter sur place.\n",
    "\n",
    "NB:Il faut tenir compte du temps d’attente dans la durée totale de la tournée.\n",
    "\n",
    "<b>-Exemple</b> :\n",
    "Le camion arrive à 9h50 pour une livraison autorisée de 10h à 12h il attend 10 minutes avant de livrer.\n",
    "L’attente rallonge le temps global mais la tournée reste valide.\n",
    " \n",
    " <u><b>2-Flotte hétérogène</b></u>\n",
    " \n",
    " <b>-Version de base</b>: Tous les (k) véhicules disponibles sont identiques cela signifie que n’importe quel camion peut effectuer n’importe quelle livraison L’objectif est de répartir équitablement les livraisons entre les camions pour minimiser le temps ou la distance totale.\n",
    "\n",
    "<b>-Exemple</b> :\n",
    "3 camions de 200 Kg chacun desservent 50 clients.Chaque camion peut transporter la même charge et parcourir la même distance.\n",
    "\n",
    "<b>-Version Avancée</b>:Ici la flotte devient hétérogène,les (k) camions ont des capacités différentes (poids, volume, longueur, etc.).certains camions peuvent accepter certains produits et pas d’autres (ex : produits frais, dangereux, volumineux).\n",
    "\n",
    "<b>-Exemple</b> :\n",
    "Un camion réfrigéré transporte des produits alimentaires tandis qu’un autre plus grand mais non climatisé transporte des matériaux de construction.\n",
    "\n",
    "<u><b>3-Trafic dynamique</b></u>\n",
    "\n",
    "<b>-version de base</b>:Les temps de parcours entre les villes sont supposés fixes et indépendants de l’heure de la journée.\n",
    "\n",
    "<b>-Exemple</b> :\n",
    "Aller de Lyon à Grenoble prend toujours 1h30 que le camion parte à 7h ou à 17h.\n",
    "\n",
    "<b>-Version avancée</b>:Ici, le temps de trajet varie selon l’heure, à cause du trafic routier.\n",
    "Le modèle doit donc intégrer plusieurs matrices de distances (ex : matin, midi, soir) et choisir la bonne valeur selon le moment où le camion emprunte la route.C’est une version beaucoup plus réaliste.\n",
    "\n",
    "<b>-Exemple</b> :\n",
    "Le trajet Lyon à Grenoble prend :\n",
    "1h15 avant 7h,2h00 entre 7h et 9h (heures de pointe),1h30 après 9h.\n",
    "\n",
    "<u><b>4-Points de collecte</b></u>\n",
    "\n",
    "<b>-Version de base</b>: Toutes les tournées commencent et se terminent au même dépôt central.\n",
    "\n",
    "<b>-Exemple</b> :\n",
    "Tous les camions partent du dépôt principal de Paris et y reviennent après les livraisons.\n",
    "\n",
    "<b>-Version avancée</b>:Ici il existe plusieurs dépôts dans le réseau.Chaque camion peut partir d’un dépôt différent et certains produits peuvent devoir être ramassés dans un point spécifique avant d’être livrés.\n",
    "\n",
    "<b>-Exemple</b> :\n",
    "Un camion part du dépôt de Lyon pour livrer le Sud-Est, un autre part de Lille pour le Nord.Certains colis doivent d’abord être collectés dans un dépôt secondaire avant d’être livrés."
   ]
  },
  {
   "cell_type": "markdown",
   "id": "fb6367eb-7616-43cc-8910-a67f7808292a",
   "metadata": {},
   "source": [
    "# 5. Representation des donnees"
   ]
  },
  {
   "cell_type": "markdown",
   "id": "38beea2c",
   "metadata": {},
   "source": [
    "(À compléter -> Ryan)"
   ]
  },
  {
   "cell_type": "markdown",
   "id": "abbb40c3",
   "metadata": {
    "vscode": {
     "languageId": "plaintext"
    }
   },
   "source": [
    "### a. Modelisation sous forme de graphe"
   ]
  },
  {
   "cell_type": "markdown",
   "id": "b8659c90-a49c-470a-a7b2-068a648d1a4d",
   "metadata": {},
   "source": [
    "D'un point de vue <b>théorique</b>, notre réseau de transport sera modélisé sous forme de <b>graphe</b>.\n",
    "\n",
    "Nous partons du principe que chaque <b>villes</b> et représenter par un <b><u>sommet</u></b> et que chaque <b>liaison</b> entre ces villes seront représenter par une <b><u>arrête</u></b>."
   ]
  },
  {
   "cell_type": "markdown",
   "id": "a39d26d5",
   "metadata": {},
   "source": [
    "<center><img src=\"images/representation_forme1.png\" width=\"250\"></center>"
   ]
  },
  {
   "cell_type": "markdown",
   "id": "969db571",
   "metadata": {},
   "source": [
    "Dans l'exemple ci-dessus, nous avons 3 villes <b>A</b>, <b>B</b> et <b>C</b>.\n",
    "En supposant qu'il n'y ait pas de sens unique, on peut passer de la ville <b>A</b> à la ville et de la ville <b>B</b> à la ville <b>C</b> et vice-versa.\n",
    "\n",
    "Notre graphe pour modéliser le contexte et donc un <b><u>graphe non orienté</u></b>.\n",
    "\n",
    "D'un point de vue <b>informatique</b>, un graphe sera représenté par un <b><u>tableau</u></b> auquel chaque <b>élément</b> correspondra à un <b>sommet</b> et son contenue aura les sommets auquel il est <b>lié</b>."
   ]
  },
  {
   "cell_type": "markdown",
   "id": "71a9f396",
   "metadata": {},
   "source": [
    "<center><img src=\"images/representation_forme2.png\" width=\"250\"></center>"
   ]
  },
  {
   "cell_type": "markdown",
   "id": "3788271d",
   "metadata": {},
   "source": [
    "Par exemple le tableau ci-dessus représente le graphe présenter précédemment.\n",
    "\n",
    "On peut voir que le premier élément <b>('A')</b> contient <b>'B'</b> car la ville <b>'A'</b> est lié à la ville <b>'B'</b>. Le deuxième élément <b>('B')</b> lui est lié à la ville <b>'A'</b> et <b>'C'</b>, ..."
   ]
  },
  {
   "cell_type": "markdown",
   "id": "ba78a408",
   "metadata": {},
   "source": [
    "### b. Modelisation du temps de livraison"
   ]
  },
  {
   "cell_type": "markdown",
   "id": "6ecf905e",
   "metadata": {},
   "source": [
    "La contrainte de <b>fenêtre temporelle</b> peut être appliquer en ayant un <b>système de temps</b> implémenter.\n",
    "\n",
    "Cela permettra ainsi de s'assurer que chaque camion livre dans une plage horaire ou de temps <b>autorisé</b>.\n",
    "\n",
    "Cela permet aussi que chaque camions ne livrent pas leurs commandes dans le <b>désordre</b> pour éviter de potentielle retard."
   ]
  },
  {
   "cell_type": "markdown",
   "id": "65768d81",
   "metadata": {},
   "source": [
    "<center><img src=\"images/representation_temps1.png\" width=\"400\"></center>"
   ]
  },
  {
   "cell_type": "markdown",
   "id": "c0dd36e2",
   "metadata": {},
   "source": [
    "Par exemple si un camion doit livrer un objet à <b>18h</b> et un autre à <b>20h</b>, il devra d'abord livrer celle à <b>18h</b> puis celle à <b>20h</b>."
   ]
  },
  {
   "cell_type": "markdown",
   "id": "28a97028",
   "metadata": {},
   "source": [
    "Pour la <b>version avancée</b>, nous choisissons d'ajouter un <b>status</b> à chaque camion pour savoir s'il est <b>disponible ou non</b>.\n",
    "\n",
    "Lorsqu'un camion est disponible, on considère qu'il part <b>en avance</b> vers la prochaine destination de sa livraison et effectuera sa livraison <b>que quand il sera l'heure de le faire</b>."
   ]
  },
  {
   "cell_type": "markdown",
   "id": "4b83b39d",
   "metadata": {},
   "source": [
    "<center><img src=\"images/representation_temps2.png\" width=\"400\"></center>"
   ]
  },
  {
   "cell_type": "markdown",
   "id": "8a5546b1",
   "metadata": {},
   "source": [
    "Par exemple en reprenant l'exemple précédent, imaginons qu'il est 17h00 est que le camion est <b>actuellement disponible</b>. \n",
    "\n",
    "Le camion ira alors en avance vers la destination de sa prochaine livraison qui est à la ville <b>'A'</b>."
   ]
  },
  {
   "cell_type": "markdown",
   "id": "841c90b9",
   "metadata": {},
   "source": [
    "<center><img src=\"images/representation_temps3.png\" width=\"400\"></center>"
   ]
  },
  {
   "cell_type": "markdown",
   "id": "5ed925e2",
   "metadata": {},
   "source": [
    "Le camion arrivant à destination, comme il n'est pas encore l'heure de la livraison (18h), il restera <b>indisponible</b> et ne bougera plus jusqu'à ce que qu'il soit l'heure de sa livraison."
   ]
  },
  {
   "cell_type": "markdown",
   "id": "be8819d8",
   "metadata": {},
   "source": [
    "<center><img src=\"images/representation_temps4.png\" width=\"400\"></center>"
   ]
  },
  {
   "cell_type": "markdown",
   "id": "1e2866e7",
   "metadata": {},
   "source": [
    "Lorsque l'heure de livraison sera <b>atteint</b>, le camion livre son objet et il devient de nouveau <b>disponible</b>.\n",
    "\n",
    "À partir de cet instant, le camion pourra à nouveau partir en avance pour aller faire sa prochaine commande qui se trouve à la ville <b>'C'</b> et répètera ainsi le processus..."
   ]
  },
  {
   "cell_type": "markdown",
   "id": "a04b124f",
   "metadata": {},
   "source": [
    "### c. Modelisation du traffic dynamique"
   ]
  },
  {
   "cell_type": "markdown",
   "id": "4f50e131",
   "metadata": {},
   "source": [
    "La contrainte du <b>traffic dynamique</b> sera implémenter en ajoutant des <b>valeurs de temps</b> de trajet pour les <b>liaisons</b> de chaque <b>villes (arrête)</b>."
   ]
  },
  {
   "cell_type": "markdown",
   "id": "4c9a6965",
   "metadata": {},
   "source": [
    "<center><img src=\"images/representation_traffic1.png\" width=\"400\"></center>"
   ]
  },
  {
   "cell_type": "markdown",
   "id": "0ade0acd",
   "metadata": {},
   "source": [
    "Cette modélisation sera faite en stockant un <b>tableau supplémentaire</b> à chaque <b>élément</b> du tableau représentant les <b>villes</b>.\n",
    "\n",
    "Ces tableaux supplémentaire vont contenir pour <b>chacun</b> de ses éléments : \n",
    "- la <b>ville</b> auquel il est <b>lié</b>\n",
    "- la <b>valeur de temps</b> que ca prend pour <b>parcourir</b> jusqu'a cette ville."
   ]
  },
  {
   "cell_type": "markdown",
   "id": "a0bc370e",
   "metadata": {},
   "source": [
    "<center><img src=\"images/representation_traffic2.png\" width=\"450\"></center>"
   ]
  },
  {
   "cell_type": "markdown",
   "id": "a791f205",
   "metadata": {},
   "source": [
    "Par exemple, pour passer de la ville <b>'A'</b> à la ville <b>'B'</b> et vice-versa, le camion prendra <b>20 minutes</b>."
   ]
  },
  {
   "cell_type": "markdown",
   "id": "5bc78030",
   "metadata": {},
   "source": [
    "Pour la <b>version avancée</b>, on a choisit d'implémenter un <b>système horraire</b> qui permettra à <b>certaine heures</b> de pouvoir changer le temps de trafics de <b>certaines liaisons</b> à un temps donner."
   ]
  },
  {
   "cell_type": "markdown",
   "id": "a5f56f6c",
   "metadata": {},
   "source": [
    "<center><img src=\"images/representation_traffic3.png\" width=\"400\"></center>"
   ]
  },
  {
   "cell_type": "markdown",
   "id": "87e6ae62",
   "metadata": {},
   "source": [
    "<center><img src=\"images/representation_traffic4.png\" width=\"400\"></center>"
   ]
  },
  {
   "cell_type": "markdown",
   "id": "ba1952c7",
   "metadata": {},
   "source": [
    "Par exemple entre la ville <b>'A'</b> et <b>'B'</b>, nous avons à :\n",
    "- <b>10h00</b> : un temps de parcours de <b>20 minutes</b>\n",
    "- <b>20h00</b> : un temps de parcoutrs de <b>12 minutes</b>"
   ]
  },
  {
   "cell_type": "markdown",
   "id": "619e5b74",
   "metadata": {},
   "source": [
    "### d. Modelisation des points de collectes"
   ]
  },
  {
   "cell_type": "markdown",
   "id": "f2b54373",
   "metadata": {},
   "source": [
    "Pour la contrainte des <b>points de collectes</b>, nous avons décidé d'attribuer pour chaque point de collecte spécifique à une ville différente. \n",
    "\n",
    "C'est à dire qu'un <b>sommet représentant une ville</b> peut aussi être considérer comme étant un point de collecte."
   ]
  },
  {
   "cell_type": "markdown",
   "id": "ba5ad15d",
   "metadata": {},
   "source": [
    "<center><img src=\"images/representation_point1.png\" width=\"250\"></center>"
   ]
  },
  {
   "cell_type": "markdown",
   "id": "d6ac9d8d",
   "metadata": {},
   "source": [
    "Par exemple dans l'exemple ci-dessus, le <b>point de collecte</b> se situe à la ville <b>'C'</b>.\n",
    "\n",
    "Si un camion veut se <b>réapprovisionner</b>, il devra aller à la ville <b>'C'</b>."
   ]
  },
  {
   "cell_type": "markdown",
   "id": "c44d04f1",
   "metadata": {},
   "source": [
    "Pour la <b>version avancée</b>, il suffira de placer différents points de collecte à une ville spécifique au lieu d'un seul.\n",
    "\n",
    "On prendra en compte aussi que certain dépôt ne peut réapprovisionner que <b>certains types d'objets</b>. "
   ]
  },
  {
   "cell_type": "markdown",
   "id": "e07102fb",
   "metadata": {},
   "source": [
    "<center><img src=\"images/representation_point2.png\" width=\"350\"></center>"
   ]
  },
  {
   "cell_type": "markdown",
   "id": "23415673",
   "metadata": {},
   "source": [
    "Par exemple imaginons qu'un camion qui livre seulement des <b>bouteilles</b> tombe à court de bouteilles à livrer. Il ne pourra se réapprovisionner que dans un dépôt qui réapprovisionne des bouteilles.\n",
    "\n",
    "Il devra donc passer par la ville <b>'B'</b>."
   ]
  },
  {
   "cell_type": "markdown",
   "id": "27db6258",
   "metadata": {},
   "source": [
    "### e. Modelisation des camions"
   ]
  },
  {
   "cell_type": "markdown",
   "id": "c7aaf4d8",
   "metadata": {},
   "source": [
    "Quant à la contrainte de <b><u>flotte hétérogène</u></b>, nous décidons que chaque camion sera stocké en mémoire dans une structure de donnée spécifique qui seront des <b><u>tableaux</u></b>.\n",
    "\n",
    "Sachant que chaque camion ne peut livrer qu'un <b>seul type d'objet</b>, chaque tableau devra contenir des camions pour un seul type d'objet spécifique uniquement.\n",
    "\n",
    "Cela nous permettra à la fois <b>d'organiser</b> facilement les camions en fonction du type d'objet mais aussi de pouvoir aller <b>chercher</b> un camion spécifique en particulier en accédant tout simplement au tableau."
   ]
  },
  {
   "cell_type": "markdown",
   "id": "e973313d",
   "metadata": {},
   "source": [
    "<center><img src=\"images/representation_camion1.png\" width=\"250\"></center>"
   ]
  },
  {
   "cell_type": "markdown",
   "id": "1e2f26ba",
   "metadata": {},
   "source": [
    "Dans l'exemple ci-dessus, nous imaginons que des camions qui ne transporte que des peluches seront tous ranger dans un <b>même tableau en commun</b>. Nous avons dans l'exemple 6 camions ('A1', 'A2', ..., 'A6').\n",
    "\n",
    "Pour la <b>version avancée</b>, de <b>nouveaux tableaux</b> qui contiendront la <b>valeur du stock actuel</b> d'un camion spécifique pourront être stocker à l'intérieur de chaque élément d'un tableau de camion."
   ]
  },
  {
   "cell_type": "markdown",
   "id": "0098f8a6",
   "metadata": {},
   "source": [
    "<center><img src=\"images/representation_camion2.png\" width=\"250\"></center>"
   ]
  },
  {
   "cell_type": "markdown",
   "id": "8b905e71",
   "metadata": {},
   "source": [
    "En reprenant l'exemple précedent, chaque <b>élément</b> du tableau contient maintenant un nouveau tableau.\n",
    "\n",
    "Ces tableaux contiennent elles-même un élément qui est une valeur du stock actuel du camion auquel ils sont <b>lié</b>.\n",
    "\n",
    "Par exemple, le camion <b>'A1'</b> a actuellement 5 peluches, le camion <b>'A2'</b> a 2 peluches, le camion <b>'A3'</b> a 4 peluches, ..."
   ]
  },
  {
   "cell_type": "markdown",
   "id": "fc30ace7-10cb-4a0c-905d-b1d8b1621cc5",
   "metadata": {},
   "source": [
    "# 6. Complexite du probleme"
   ]
  },
  {
   "cell_type": "markdown",
   "id": "3ebddd1b-0546-48fb-ae8c-344abd759f35",
   "metadata": {},
   "source": [
    "(À compléter -> Oumar + les autres)"
   ]
  },
  {
   "cell_type": "markdown",
   "id": "a60d1cd0",
   "metadata": {},
   "source": [
    "# 7. Conclusion"
   ]
  },
  {
   "cell_type": "markdown",
   "id": "7f6a5239",
   "metadata": {},
   "source": [
    "(À compléter -> Tout le monde)"
   ]
  },
  {
   "cell_type": "markdown",
   "id": "9c579d8f",
   "metadata": {},
   "source": [
    "Ce premier livrable permet de confirmer les préparatifs du projet en confirmant plusieurs points de réflexions qui vont déterminer le <b>temps</b> que nous prendra ce projet.\n",
    "\n",
    "Le fait de résumer le contexte depuis le <b>cahier des charges</b> nous a permis de mieux cerner la situation que <b>l'ADEME</b> fait actuellement face. Cela nous a permis de distinguer les informations les plus utiles pour mener à bien le projet.\n",
    "\n",
    "De ce fait, une formulation de la <b>problématique</b> a pu se faire de manière claire et concise. Ainsi, nous avons obtenu un objectif précis qui va permettre de résoudre le problème pour répondre aux besoins de l'ADEME.\n",
    "\n",
    "Un bref rappel de quelque <b>propriété théorique</b> a permis à notre équipe de bien discerner les différents éléments scientifiques qui nous seront utile d'un point de vue technique pour mener à bien le projet sans trop de difficulté.\n",
    "\n",
    "Nous avons alors pu réfléchir en amont à la manière dont nous allons <b>modéliser</b> le contexte d'un point de vue théorique.\n",
    "\n",
    "Ainsi, cela nous a permis de mieux réfléchir sur le <b>choix des contraintes</b> ce qui nous va nous permettre d'avoir une simulation à la fois cohérente et réaliste pour notre future production.\n",
    "\n",
    "Ayant alors une bonne vue d'ensemble de la manière dont nous allons modéliser les données, nous avons analyser la <b>complexité</b> de notre modélisation.\n",
    "\n",
    "Cela nous a amenés à penser à des solutions adapter à ces complexités afin de pouvoir produire quelque chose de <b>fiable</b> et <b>optimal</b>.\n"
   ]
  },
  {
   "cell_type": "markdown",
   "id": "3f6f05ce-7dce-4163-ba76-5e339f756d23",
   "metadata": {},
   "source": [
    "# 8. Bibliographie"
   ]
  },
  {
   "cell_type": "markdown",
   "id": "66432e0e-90c4-40e3-99ae-55cada63b112",
   "metadata": {},
   "source": [
    "(À compléter -> Tout le monde)"
   ]
  },
  {
   "cell_type": "markdown",
   "id": "047da987-a05d-4251-b518-f754ff03f9c8",
   "metadata": {},
   "source": [
    "Site qui explique comment implémenter des graphes et appliquer des algorithmes connues d'un point de vue informatique :\n",
    "https://www.geeksforgeeks.org/dsa/graph-data-structure-and-algorithms/"
   ]
  }
 ],
 "metadata": {
  "kernelspec": {
   "display_name": "Python 3 (ipykernel)",
   "language": "python",
   "name": "python3"
  },
  "language_info": {
   "codemirror_mode": {
    "name": "ipython",
    "version": 3
   },
   "file_extension": ".py",
   "mimetype": "text/x-python",
   "name": "python",
   "nbconvert_exporter": "python",
   "pygments_lexer": "ipython3",
   "version": "3.12.11"
  }
 },
 "nbformat": 4,
 "nbformat_minor": 5
}
