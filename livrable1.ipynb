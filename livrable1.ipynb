{
 "cells": [
  {
   "cell_type": "markdown",
   "id": "73fa017f-7ca9-4a2b-bc36-ab373b0d1bdc",
   "metadata": {},
   "source": [
    "<center><img src=\"images/logo_CESI.png\" width=\"250\"></center>"
   ]
  },
  {
   "cell_type": "markdown",
   "id": "f0b9dd1c-b327-461e-a2ac-bba66f2208e6",
   "metadata": {},
   "source": [
    "# <center><b>Projet algorithmique et optimisation combinatoire</b></center>\n",
    "# <center><b>Livrable 1</b></center>\n",
    "### <center>Mickaël King</center>\n",
    "### <center>(À compléter)</center>\n",
    "### <center>(À compléter)</center>\n",
    "### <center>(À compléter)</center>\n",
    "### <center>Tuteur : Mohamed Belgacem</center>\n",
    "### <center>FISE A3 Informatique</center>"
   ]
  },
  {
   "cell_type": "markdown",
   "id": "35079a7a-690b-4114-b1e8-57a822a84c2f",
   "metadata": {},
   "source": [
    "# Sommaire\n",
    "\n",
    "1. [Contexte](#Contexte)\n",
    "2. [Problématique](#Problematique)\n",
    "3. [Propriété théorique](#Propriete-theorique)\n",
    "4. [Représentation des données](#Representation-des-donnees)\n",
    "5. [Complexité du problème](#Complexite-du-probleme)\n",
    "6. [Solutions proposées](#Solutions-proposees)\n",
    "7. [Contraintes](#Contraintes)\n",
    "8. [Bibliographie](#Bibliographie)"
   ]
  },
  {
   "cell_type": "markdown",
   "id": "79ca753a-8288-41d7-9d2f-c70e29918d0c",
   "metadata": {},
   "source": [
    "# Contexte"
   ]
  },
  {
   "cell_type": "markdown",
   "id": "9ff47f78-c0ed-43aa-a62e-b3e40ae644cc",
   "metadata": {},
   "source": [
    "(À compléter -> Mohamed)"
   ]
  },
  {
   "cell_type": "markdown",
   "id": "8cbc4307-9cda-4127-8786-27a13a64213e",
   "metadata": {},
   "source": [
    "# Problematique"
   ]
  },
  {
   "cell_type": "markdown",
   "id": "78999a34-c0c6-4f4b-b964-b48ce8179aee",
   "metadata": {},
   "source": [
    "(À compléter -> Ryan)"
   ]
  },
  {
   "cell_type": "markdown",
   "id": "1673051a-72d5-4655-98b8-1797565583c7",
   "metadata": {},
   "source": [
    "# Propriete theorique"
   ]
  },
  {
   "cell_type": "markdown",
   "id": "5d863a1c-4b5d-4828-91fa-11b9c27a27d9",
   "metadata": {},
   "source": [
    "(À compléter -> Oumar)"
   ]
  },
  {
   "cell_type": "markdown",
   "id": "fb6367eb-7616-43cc-8910-a67f7808292a",
   "metadata": {},
   "source": [
    "# Representation des donnees"
   ]
  },
  {
   "cell_type": "markdown",
   "id": "b8659c90-a49c-470a-a7b2-068a648d1a4d",
   "metadata": {},
   "source": [
    "(À compléter -> Mickaël + les autres)"
   ]
  },
  {
   "cell_type": "markdown",
   "id": "fc30ace7-10cb-4a0c-905d-b1d8b1621cc5",
   "metadata": {},
   "source": [
    "# Complexite du probleme"
   ]
  },
  {
   "cell_type": "markdown",
   "id": "3ebddd1b-0546-48fb-ae8c-344abd759f35",
   "metadata": {},
   "source": [
    "(À compléter -> Oumar + les autres)"
   ]
  },
  {
   "cell_type": "markdown",
   "id": "a7040c28-809c-4510-be6f-450ed83ee186",
   "metadata": {},
   "source": [
    "# Solutions proposees"
   ]
  },
  {
   "cell_type": "markdown",
   "id": "96b4b807-9aaf-44cd-841a-ad316ea886d1",
   "metadata": {},
   "source": [
    "(À compléter -> Ryan)"
   ]
  },
  {
   "cell_type": "markdown",
   "id": "3ccb3633-0e0a-47ac-b4bf-45ecdbdc0235",
   "metadata": {},
   "source": [
    "# Contraintes"
   ]
  },
  {
   "cell_type": "markdown",
   "id": "e630c297-a78a-4f0b-864e-80ef70f9d5df",
   "metadata": {},
   "source": [
    "(À compléter -> Mohamed)"
   ]
  },
  {
   "cell_type": "markdown",
   "id": "3f6f05ce-7dce-4163-ba76-5e339f756d23",
   "metadata": {},
   "source": [
    "# Bibliographie"
   ]
  },
  {
   "cell_type": "markdown",
   "id": "66432e0e-90c4-40e3-99ae-55cada63b112",
   "metadata": {},
   "source": [
    "(À compléter -> Tout le monde)"
   ]
  },
  {
   "cell_type": "code",
   "execution_count": null,
   "id": "047da987-a05d-4251-b518-f754ff03f9c8",
   "metadata": {},
   "outputs": [],
   "source": []
  }
 ],
 "metadata": {
  "kernelspec": {
   "display_name": "Python 3 (ipykernel)",
   "language": "python",
   "name": "python3"
  },
  "language_info": {
   "codemirror_mode": {
    "name": "ipython",
    "version": 3
   },
   "file_extension": ".py",
   "mimetype": "text/x-python",
   "name": "python",
   "nbconvert_exporter": "python",
   "pygments_lexer": "ipython3",
   "version": "3.12.11"
  }
 },
 "nbformat": 4,
 "nbformat_minor": 5
}
