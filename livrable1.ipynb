{
 "cells": [
  {
   "cell_type": "markdown",
   "id": "73fa017f-7ca9-4a2b-bc36-ab373b0d1bdc",
   "metadata": {},
   "source": [
    "<center><img src=\"images/logo_CESI.png\" width=\"250\"></center>"
   ]
  },
  {
   "cell_type": "markdown",
   "id": "f0b9dd1c-b327-461e-a2ac-bba66f2208e6",
   "metadata": {},
   "source": [
    "# <center><b>Projet algorithmique et optimisation combinatoire</b></center>\n",
    "# <center><b>Livrable 1</b></center>\n",
    "\n",
    "<p><center><b><u>Groupe de projet</u> :</b></center></p>\n",
    "<center><b>Mickaël King</b></center>\n",
    "<center><b>(À compléter)</b></center>\n",
    "<center><b>(À compléter)</b></center>\n",
    "<center><b>(À compléter)</b></center>\n",
    "\n",
    "<p><center><b><u>Tuteur</u> : Mohamed Belgacem</b></center></p>\n",
    "<center><b><u>Promotion</u> : FISE A3 Informatique</b></center>"
   ]
  },
  {
   "cell_type": "markdown",
   "id": "35079a7a-690b-4114-b1e8-57a822a84c2f",
   "metadata": {},
   "source": [
    "# Sommaire\n",
    "\n",
    "1. [Contexte](#Contexte)\n",
    "2. [Problématique](#Problematique)\n",
    "3. [Propriété théorique](#Propriete-theorique)\n",
    "4. [Contraintes](#Contraintes)\n",
    "5. [Représentation des données](#Representation-des-donnees)\n",
    "    * [Modélisation sous forme de graphe](#Modelisation-sous-forme-de-graphe)\n",
    "    * [Modélisation des camions](#Modelisation-des-camions)\n",
    "6. [Complexité du problème](#Complexite-du-probleme)\n",
    "7. [Solutions et outils proposées](#Solutions-et-outils-proposees)\n",
    "8. [Bibliographie](#Bibliographie)"
   ]
  },
  {
   "cell_type": "markdown",
   "id": "79ca753a-8288-41d7-9d2f-c70e29918d0c",
   "metadata": {},
   "source": [
    "# Contexte"
   ]
  },
  {
   "cell_type": "markdown",
   "id": "9ff47f78-c0ed-43aa-a62e-b3e40ae644cc",
   "metadata": {},
   "source": [
    "(À compléter -> Mohamed)"
   ]
  },
  {
   "cell_type": "markdown",
   "id": "8cbc4307-9cda-4127-8786-27a13a64213e",
   "metadata": {},
   "source": [
    "# Problematique"
   ]
  },
  {
   "cell_type": "markdown",
   "id": "78999a34-c0c6-4f4b-b964-b48ce8179aee",
   "metadata": {},
   "source": [
    "Dans ce projet il s’agit de concevoir et implémenter une méthode issue de la Recherche Opérationnelle permettant de calculer, sur un réseau routier, des tournées de livraison réalistes et scalables. Chaque tournée doit partir et revenir à une base, desservir un sous-ensemble de points (collectes/livraisons) et minimiser un critère temporel en tenant compte du trafic prévu (temps de parcours variant selon les tranches horaires) et, selon l’option choisie, d’un ou plusieurs autres types de contraintes opérationnelles (fenêtres temporelles, flotte multiple, capacités, compatibilités véhicules-objets, points de collecte distincts, etc.).
Comment concevoir et mettre en œuvre une méthode de résolution efficace, robuste et scalable (capable de traiter plusieurs milliers de points) pour le problème de tournée de livraison sur réseau routier à temps dépendant, qui intègre des contraintes opérationnelles réalistes et qui, par son efficacité, permettra de réduire les durées de transport et l’impact environnemental associé ?"
   ]
  },
  {
   "cell_type": "markdown",
   "id": "1673051a-72d5-4655-98b8-1797565583c7",
   "metadata": {},
   "source": [
    "# Propriete theorique"
   ]
  },
  {
   "cell_type": "markdown",
   "id": "5d863a1c-4b5d-4828-91fa-11b9c27a27d9",
   "metadata": {},
   "source": [
    "(À compléter -> Oumar)"
   ]
  },
  {
   "cell_type": "markdown",
   "id": "3ccb3633-0e0a-47ac-b4bf-45ecdbdc0235",
   "metadata": {},
   "source": [
    "# Contraintes"
   ]
  },
  {
   "cell_type": "markdown",
   "id": "e630c297-a78a-4f0b-864e-80ef70f9d5df",
   "metadata": {},
   "source": [
    "(À compléter -> Mohamed)"
   ]
  },
  {
   "cell_type": "markdown",
   "id": "fb6367eb-7616-43cc-8910-a67f7808292a",
   "metadata": {},
   "source": [
    "# Representation des donnees"
   ]
  },
  {
   "cell_type": "markdown",
   "id": "cd745e72",
   "metadata": {},
   "source": [
    "(À compléter -> Mickaël + les autres)"
   ]
  },
  {
   "cell_type": "markdown",
   "id": "abbb40c3",
   "metadata": {
    "vscode": {
     "languageId": "plaintext"
    }
   },
   "source": [
    "### Modelisation sous forme de graphe"
   ]
  },
  {
   "cell_type": "markdown",
   "id": "b8659c90-a49c-470a-a7b2-068a648d1a4d",
   "metadata": {},
   "source": [
    "D'un point de vue <b>théorique</b>, notre réseau de transport sera modéliser sous forme de <b>graphe</b>.\n",
    "\n",
    "Nous partons du principe que chaque <b>villes</b> et représenter par un <b><u>sommet</u></b> et que chaque <b>liaison</b> entre ces villes seront représenter par une <b><u>arrête</u></b>."
   ]
  },
  {
   "cell_type": "markdown",
   "id": "a39d26d5",
   "metadata": {},
   "source": [
    "<center><img src=\"images/representation_exemple.png\" width=\"250\"></center>"
   ]
  },
  {
   "cell_type": "markdown",
   "id": "3788271d",
   "metadata": {},
   "source": [
    "Dans l'exemple ci-dessus, nous avons 3 villes <b>A</b>, <b>B</b> et <b>C</b>.\n",
    "En supposant qu'il n'y ait pas de sens unique, on peut passer de la ville <b>A</b> à la ville et de la ville <b>B</b> à la ville <b>C</b> et vice-versa.\n",
    "\n",
    "Notre graphe pour modéliser le contexte et donc un <b><u>graphe non orienté</u></b>.\n",
    "\n",
    "Quant à la contrainte des <b>points de collectes</b>, nous avons décidé d'attribuer pour chaque point de collecte spécifique à une ville différente. C'est à dire qu'un sommet représentant une ville peut aussi être considérer comme étant un point de collecte."
   ]
  },
  {
   "cell_type": "markdown",
   "id": "ba5ad15d",
   "metadata": {},
   "source": [
    "<center><img src=\"images/representation_exemple1.png\" width=\"250\"></center>"
   ]
  },
  {
   "cell_type": "markdown",
   "id": "d6ac9d8d",
   "metadata": {},
   "source": [
    "Par exemple dans l'exemple ci-dessus, le point de collecte se situe à la ville <b>C</b>.\n",
    "\n",
    "On prendra en compte aussi que certain dépôt ne peut réapprovisionner que <b>certains type d'objets</b>. \n",
    "\n",
    "Par exemple si un camion qui livre seulement des peluches tombe à court de peluches à livrer, il ne pourra se réapprovisionner que dans un dépôt qui réapprovisionne des peluches."
   ]
  },
  {
   "cell_type": "markdown",
   "id": "27db6258",
   "metadata": {},
   "source": [
    "### Modelisation des camions"
   ]
  },
  {
   "cell_type": "markdown",
   "id": "c7aaf4d8",
   "metadata": {},
   "source": [
    "Pour la contrainte de <b>flotte hétérogène</b>, nous imaginons que chaque camions sera stocker en mémoire dans une structure de donnée spécifique qui seront des <b>tableaux</b>.\n",
    "\n",
    "Sachant que chaque camion ne peut livrer qu'un <b>seul type d'objet</b>, chaque tableaux devra contenir des camions pour un seul type d'objet spécifique uniquement.\n",
    "\n",
    "Cela nous permettra à la fois <b>d'organiser</b> facilement les camions en fonction du type d'objet mais aussi de pouvoir aller <b>chercher</b> un camion spécifique en particulier en accedant tout simplement au tableau."
   ]
  },
  {
   "cell_type": "markdown",
   "id": "e973313d",
   "metadata": {},
   "source": [
    "<center><img src=\"images/representation_exemple2.png\" width=\"250\"></center>"
   ]
  },
  {
   "cell_type": "markdown",
   "id": "1e2f26ba",
   "metadata": {},
   "source": [
    "Dans l'exemple ci-dessus, nous imaginons que des camions qui ne transporte que des peluches seront tous ranger dans un même tableau en commun. Nous avons dans l'exemple 6 camions (A1, A2, ..., A6)."
   ]
  },
  {
   "cell_type": "markdown",
   "id": "fc30ace7-10cb-4a0c-905d-b1d8b1621cc5",
   "metadata": {},
   "source": [
    "# Complexite du probleme"
   ]
  },
  {
   "cell_type": "markdown",
   "id": "3ebddd1b-0546-48fb-ae8c-344abd759f35",
   "metadata": {},
   "source": [
    "(À compléter -> Oumar + les autres)"
   ]
  },
  {
   "cell_type": "markdown",
   "id": "a7040c28-809c-4510-be6f-450ed83ee186",
   "metadata": {},
   "source": [
    "# Solutions et outils proposees"
   ]
  },
  {
   "cell_type": "markdown",
   "id": "96b4b807-9aaf-44cd-841a-ad316ea886d1",
   "metadata": {},
   "source": [
    "Modélisation des données — POO 
Quoi 
Créer une classe PointLivraison (ou Ville) : chaque instance représente un point du problème et encapsule toutes les informations qui lui sont propres (identifiant, coordonnées, demande, fenêtre temporelle, point de collecte associé, types de véhicules acceptés, temps de service). La classe contient aussi des méthodes utilitaires (distance vers un autre point, test de compatibilité avec un véhicule)
Détail / implémentation 
from dataclasses import dataclass
from typing import Optional, Tuple, Set

@dataclass
class PointLivraison:
    id: int
    x: float
    y: float
    demande: float = 0.0
    fenetre: Optional[Tuple[float,float]] = None  # (a,b) ou None
    collecte_id: Optional[int] = None            # id du point pickup si applicable
    vehicules_acceptes: Optional[Set[str]] = None
    temps_service: float = 0.0

    def distance_euclidienne(self, autre) -> float:
        dx, dy = self.x - autre.x, self.y - autre.y
        return (dx*dx + dy*dy)**0.5

    def est_compatible(self, vehicule_type: str) -> bool:
        return (self.vehicules_acceptes is None) or (vehicule_type in self.vehicules_acceptes)
Pourquoi c’est un bon choix 
	Lisibilité & maintenance : toutes les données liées à un point sont au même endroit ; le code est plus facile à lire et à maintenir.
	Extensibilité : ajouter une nouvelle contrainte (par ex. température requise, fragilité) se fait en ajoutant un attribut et, éventuellement, une méthode ; les autres composants restent inchangés.
	Débogage & tests unitaires : on peut isoler la logique d’un point (tests pour est_compatible, calcul de distance).
	Correspondance avec le graphe : chaque objet peut être lié directement au nœud du graphe (ex. G.nodes[pid]['obj'] = point), ce qui facilite les opérations graphiques et les mises à jour de métadonnées.
Avantages / Inconvénients  
	Avantages : clarté, modularité, réutilisabilité.
	Inconvénients : léger surcoût mémoire et d’accès par rapport à des structures tabulaires pures ; négligeable pour la plupart des usages si implémenté proprement (ex. dataclasses).

Utiliser des sommets pour représenter les points de livraison
Quoi 
Représenter le réseau routier par un graphe G=(V,E)où chaque sommet v∈Vest un point de livraison (ou dépôt) et chaque arête e=(u,v)∈Ereprésente une liaison routière entre deux points. Les arêtes portent des attributs (poids = distance/temps, profil temporel, sens unique).
Détail / implémentation  
	Construire le graphe avec NetworkX :
	import networkx as nx
	G = nx.DiGraph()   # ou nx.Graph() si pas besoin d'orienté
	for p in points:
	    G.add_node(p.id, obj=p)
	G.add_edge(u_id, v_id, weight=distance, time_profile=profile)
	Attributs utiles : weight (distance ou durée), time_profile (durée selon tranche horaire), max_vehicle_type, speed_limit.
Pourquoi c’est pertinent 
	Représentation naturelle: TSP/VRP sont des problèmes de graphe ; travailler directement sur un graphe facilite l’accès aux algorithmes standards (plus courts chemins, MST, composantes).
	Extensible: on peut ajouter des attributs par arête/sommet sans refondre la modélisation.
	Manipulation pratique: suppression/ajout de nœuds, contraction, sous-graphes selon zone géographique.
	Compatibilité: facilite l’utilisation de bibliothèques (NetworkX, routing engines) et l’intégration avec des cartes (GeoPandas, Plotly).
Points d’attention  
	Si le graphe réel est très grand, attention à la mémoire et aux temps de calcul ; privilégier des sous-graphes, échantillonnage ou index spatial (R-tree) pour requêtes locales.
	Stocker les profils temporels volumineux hors du graphe (références vers dictionnaires) pour garder G léger.

Paramètre “n” = nombre de livraisons
Quoi 
Définir n comme le nombre de points clients à desservir (hors dépôt). C’est la métrique principale de taille de l’instance.
Utilisation & rôle 
	Sert à dimensionner les tests (on exécutera les algorithmes pour plusieurs valeurs de n pour évaluer scalabilité).
	Permet de choisir les structures de données et algorithmes adaptés (ex. pour n < 100 on peut tester des approches plus coûteuses ; pour n > 2000 il faut heuristiques très scalables).
	n guide aussi la stratégie de plan d’expérience (jeux d’instances petits, moyens, grands).
Pourquoi important 
	Influence directement la complexité combinatoire (exponentielle pour permutations complètes).
	Permet de communiquer clairement la capacité de votre méthode.
	Utile pour les indicateurs expérimentaux (temps CPU en fonction de n, qualité vs n).

Graphe pondéré non orienté / orienté
Quoi 
Chaque arête possède un poids (weight) représentant distance, durée, ou coût énergétique. Choisir un graphe orienté (DiGraph) si certaines rues sont à sens unique ou si coûts diffèrent selon la direction.
Pourquoi c’est un bon choix 
	Réalisme : prend en compte sens uniques, contraintes de circulation et asymétries.
	Intégration du trafic : le poids peut être une fonction du temps (travel_time_profile), facilitant la modélisation temps-dépendante.
	Compatibilité : avec Dijkstra, A*, et algorithmes de routage temps-dépendants (avec adaptations).

Choix techniques — Bibliothèque networkx
Quoi 
Utiliser NetworkX pour manipuler le graphe, effectuer des requêtes (voisins, poids), et appeler des algorithmes (Dijkstra, MST).
Avantages pratiques 
	API riche et intuitive, documentation et communauté active.
	Fonctions intégrées : nx.shortest_path_length, nx.minimum_spanning_tree, nx.connected_components.
	Intégration aisée avec pandas, numpy, matplotlib, plotly / dash.
Limites & solutions 
	Performance : pour très grands graphes, networkx (pure Python) peut être lent. Solution : prototypage avec NetworkX, puis optimisation (ex. igraph, graph-tool, ou implémentations en C/C++/numba pour les parties critiques).
	Stockage large de profils : externaliser les profils volumineux vers structures spécialisées (HDF5, dictionnaires persistants).

Représentation des distances — dictionnaire vs matrice
Quoi 
Deux options courantes :
	Matrice dense (numpy 2D) : accès O(1), très efficace pour opérations vectorisées.
	Dictionnaire de dictionnaires (dict[u][v]) : stockage sparse, flexible, lisible.
Argument
	Sparsité naturelle du réseau routier : la matrice dense allouerait O(n²) éléments même si beaucoup sont absents.
	Flexibilité sémantique : chaque entrée peut contenir non seulement un scalaire, mais un dict avec distance, time_profile, restrictions.
	Compatibilité NetworkX : NetworkX utilise des dicts pour les voisins — cohérence des accès 
	Maintenance & debug : format lisible, facile à vérifier et modifier manuellement dans les notebooks.
Quand préférer la matrice 
	Lorsque le graphe est complet (matrice métrique), et que vous effectuez beaucoup d’opérations vectorisées (algèbre linéaire, calculs all-pairs optimisés).
	Mais pour la plupart des cas routiers réels, le dictionnaire est plus adapté.

Interface — utiliser Dash pour l’affichage
Quoi 
Construire un tableau de bord interactif (Dash + Plotly) pour visualiser le graphe, lancer des scénarios, afficher les tournées et animer le déplacement des véhicules.
Fonctionnalités recommandées 
	Carte ou scatter plot des points (dépôt, pickups, deliveries).
	Lignes représentant trajets, colorées par véhicule ou par statut (en cours, terminé).
	Contrôles d’entrée : sélection d’instance (n), paramètres d’algorithme, heure de départ, bruit sur trafic.
	Slider temporel pour animer un trajet et voir l’effet du profil trafic.
	Affichage de métriques en temps réel : coût, makespan, violation de contraintes.
Pourquoi c’est utile 
	Communication : rend le projet parlant pour l’ADEME — l’impact et le comportement deviennent tangibles.
	Débogage visuel : repérer facilement erreurs de tournées, détours anormaux, ou violations de contraintes.
	Interactivité : tester plusieurs configurations sans relancer le notebook.

Choix algorithmiques — Prim et Dijkstra (rôles détaillés)
Dijkstra — rôle & adaptation 
	Rôle classique : calculer le plus court chemin entre deux nœuds dans un graphe pondéré (utile pour construire une matrice de distances entre points d’intérêt).
	Utilité pratique :
	construire une matrice dist[i][j] (cas où le graphe n’est pas complet),
	estimer coût d’insertion d’un point dans une tournée,
	servir de base à heuristiques d’insertion.
	Adaptation pour temps-dépendant : il existe une version « time-dependent Dijkstra » où le poids d’une arête dépend du temps de départ. Implémentation plus lourde : on doit propager temps d’arrivée et recalculer coût d’arête au moment du passage. Pour prototype, une approximation par tranches horaires (profil discret) est souvent suffisante.
Prim rôle & utilisation 
	Rôle : construire un arbre couvrant minimal (MST) sur le graphe complet (ou métrique).
	Utilité pour TSP : MST → parcours préfixe (ou heuristique de Christofides pour métrique) pour produire une solution initiale raisonnable rapidement.
	Chaîne classique : Dijkstra (faire matrice métrique) → Prim (MST) → parcours → amélioration locale (2-opt/3-opt/LNS).
Complexité & performance 
	Dijkstra : O(∣E∣+∣V∣log⁡∣V∣)par source (avec heap). Pour calculer toutes-pairs, coûte O(∣V∣(∣E∣+∣V∣log⁡∣V∣))— souvent inabordable pour très grands graphes ; préférer calculs partiels (entre points d’intérêt seulement).
	Prim : comparable à Dijkstra en complexité, utilisable en O(∣E∣+∣V∣log⁡∣V∣).

Problème central — TSP comme cœur conceptuel
Quoi 
Le TSP (un véhicule, visiter tous les points, revenir au dépôt) est la version la plus simple et la pierre angulaire. Le VRP est une extension multi-véhicules du TSP avec contraintes supplémentaires.
Pourquoi partir du TSP 
	Permet de valider les opérateurs locaux (2-opt, swap, insertion) et les composantes d’un algorithme d’amélioration avant d’ajouter la complexité multi-véhicule.
	Donne des références (instances TSPLIB, bornes) pour évaluer la qualité des heuristiques.
	Facilite la progressivité du développement : prototype TSP → VRP capacitaire → VRP hétérogène → pickup/delivery.
Méthode proposée  
	Générer matrice métrique via Dijkstra entre points d’intérêt.
	Construire solution initiale via MST/Prim ou insertion gloutonne.
	Appliquer améliorations locales (2-opt → 3-opt → Lin-Kernighan si besoin).
	Étendre l’approche pour multi-véhicules avec un split (partitionner tournée TSP en k tours), ou utiliser une méthode dédiée (LNS, algorithme génétique hybride).

Contraintes choisies : intégration et justification
Points de collecte (pickup → delivery) — version avancée 
Description & exigence
Un objet doit être récupéré à un point P (pickup) puis livré à D (delivery). L’ordre P→D doit être respecté ; la capacité disponible au moment du pickup et du trajet entre P et D doit être prise en compte.
Comment l’intégrer  
	Représenter chaque paire comme deux sommets liés par la contrainte pickup_before_delivery.
	Lors de génération/évaluation d’une solution, vérifier l’ordre : tout index(P) < index(D).
	Dans les opérateurs de voisinage, créer variants qui préservent l’ordre (par ex. déplacer à l’intérieur de la même tournée avec vérification ou déplacement symétrique des deux sommets).
	Tenir compte de la charge : après pickup, la charge du véhicule augmente ; la capacité doit rester respectée jusqu’à la livraison.
Pourquoi c’est intéressant pour ADEME 
	C’est très pertinent pour la logistique urbaine (retours de colis, collecte sélective, transport d’équipements) ; montre la capacité de votre méthode à gérer contraintes réelles.
	Ca rend le modèle industriel, donc favorable pour un financement orienté expérimentation.
Complexité & impact 
	Réduit l’espace des solutions (certaines permutations deviennent invalides), rendant la recherche plus délicate.
	Nécessite opérateurs spécialisés (insertions de paires, heuristiques dédiées).

Flotte hétérogène — version simple 
Description & exigence
Plusieurs types de véhicules disponibles (différentes capacités, types d’énergie, coûts fixes/variables). Certains clients peuvent n’être compatibles qu’avec certains types.
Comment l’intégrer 
	Définir une classe Véhicule avec id, type, capacité
	Lors de l’affectation, respecter point.est_compatible(vehicule.type).
	Objectif peut passer de “minimiser somme des temps” à “minimiser makespan” ou coût total (coûts variables + fixes).
Pourquoi c’est pertinent 
	Modèle fréquent en pratique (flotte mixte diesel/électrique, camions légers vs poids lourds).
	Augmente la portée industrielle du projet sans ajouter la complexité extrême des fenêtres temporelles ou du temps-dépendant complet.
Impact algorithmique  
	Nécessite un critère d’affectation (heuristique d’insertion qui tient compte capacité et compatibilité).
	Le split d’une tournée en plusieurs selon types de véhicules ou la construction de tours par dépôt/type est une phase clé ; LNS ou heuristiques d’affectation sont bien adaptées.
"
   ]
  },
  {
   "cell_type": "markdown",
   "id": "3f6f05ce-7dce-4163-ba76-5e339f756d23",
   "metadata": {},
   "source": [
    "# Bibliographie"
   ]
  },
  {
   "cell_type": "markdown",
   "id": "66432e0e-90c4-40e3-99ae-55cada63b112",
   "metadata": {},
   "source": [
    "(À compléter -> Tout le monde)"
   ]
  },
  {
   "cell_type": "markdown",
   "id": "047da987-a05d-4251-b518-f754ff03f9c8",
   "metadata": {},
   "source": [
    "Site qui explique comment implémenter des graphes et appliquer des algorithmes connues d'un point de vue informatique :\n",
    "https://www.geeksforgeeks.org/dsa/graph-data-structure-and-algorithms/"
   ]
  }
 ],
 "metadata": {
  "kernelspec": {
   "display_name": "Python 3 (ipykernel)",
   "language": "python",
   "name": "python3"
  },
  "language_info": {
   "codemirror_mode": {
    "name": "ipython",
    "version": 3
   },
   "file_extension": ".py",
   "mimetype": "text/x-python",
   "name": "python",
   "nbconvert_exporter": "python",
   "pygments_lexer": "ipython3",
   "version": "3.12.11"
  }
 },
 "nbformat": 4,
 "nbformat_minor": 5
}
