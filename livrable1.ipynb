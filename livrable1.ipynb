{
 "cells": [
  {
   "cell_type": "markdown",
   "id": "73fa017f-7ca9-4a2b-bc36-ab373b0d1bdc",
   "metadata": {},
   "source": [
    "<center><img src=\"images/logo_CESI.png\" width=\"250\"></center>"
   ]
  },
  {
   "cell_type": "markdown",
   "id": "f0b9dd1c-b327-461e-a2ac-bba66f2208e6",
   "metadata": {},
   "source": [
    "# <center><b>Projet algorithmique et optimisation combinatoire</b></center>\n",
    "# <center><b>Livrable 1</b></center>\n",
    "\n",
    "<p><center><b><u>Groupe de projet</u> :</b></center></p>\n",
    "<center><b>Mickaël King</b></center>\n",
    "<center><b>(À compléter)</b></center>\n",
    "<center><b>Zie Mohamed Lamine Traore</b></center>\n",
    "<center><b>(À compléter)</b></center>\n",
    "\n",
    "<p><center><b><u>Tuteur</u> : Mohamed Belgacem</b></center></p>\n",
    "<center><b><u>Promotion</u> : FISE A3 Informatique</b></center>"
   ]
  },
  {
   "cell_type": "markdown",
   "id": "35079a7a-690b-4114-b1e8-57a822a84c2f",
   "metadata": {},
   "source": [
    "# Sommaire\n",
    "\n",
    "1. [Contexte](#Contexte)\n",
    "2. [Problématique](#Problematique)\n",
    "3. [Propriété théorique](#Propriete-theorique)\n",
    "4. [Contraintes](#Contraintes)\n",
    "5. [Représentation des données](#Representation-des-donnees)\n",
    "    * [Modélisation sous forme de graphe](#Modelisation-sous-forme-de-graphe)\n",
    "    * [Modélisation des camions](#Modelisation-des-camions)\n",
    "6. [Complexité du problème](#Complexite-du-probleme)\n",
    "7. [Solutions et outils proposées](#Solutions-et-outils-proposees)\n",
    "8. [Bibliographie](#Bibliographie)"
   ]
  },
  {
   "cell_type": "markdown",
   "id": "79ca753a-8288-41d7-9d2f-c70e29918d0c",
   "metadata": {},
   "source": [
    "# Contexte"
   ]
  },
  {
   "cell_type": "markdown",
   "id": "9ff47f78-c0ed-43aa-a62e-b3e40ae644cc",
   "metadata": {},
   "source": [
    "Ce projet s’inscrit dans le cadre du module d’algorithmique et d’optimisation combinatoire.\n",
    "Il vise à appliquer les méthodes vues en cours à un problème concret d’optimisation, notamment la planification des tournées de véhicules pour la livraison de marchandises.\n",
    "L’objectif général est de modéliser un problème réel de transport sous forme mathématique et algorithmique, puis de proposer une solution heuristique permettant de trouver des trajets efficaces tout en respectant différentes contraintes."
   ]
  },
  {
   "cell_type": "markdown",
   "id": "8cbc4307-9cda-4127-8786-27a13a64213e",
   "metadata": {},
   "source": [
    "# Problematique"
   ]
  },
  {
   "cell_type": "markdown",
   "id": "78999a34-c0c6-4f4b-b964-b48ce8179aee",
   "metadata": {},
   "source": [
    "(À compléter -> Ryan)"
   ]
  },
  {
   "cell_type": "markdown",
   "id": "1673051a-72d5-4655-98b8-1797565583c7",
   "metadata": {},
   "source": [
    "# Propriete theorique"
   ]
  },
  {
   "cell_type": "markdown",
   "id": "5d863a1c-4b5d-4828-91fa-11b9c27a27d9",
   "metadata": {},
   "source": [
    "(À compléter -> Oumar)"
   ]
  },
  {
   "cell_type": "markdown",
   "id": "3ccb3633-0e0a-47ac-b4bf-45ecdbdc0235",
   "metadata": {},
   "source": [
    "# Contraintes"
   ]
  },
  {
   "cell_type": "markdown",
   "id": "e630c297-a78a-4f0b-864e-80ef70f9d5df",
   "metadata": {},
   "source": [
    "Le modèle que nous avons développé doit prendre en compte plusieurs contraintes réelles et combinatoires, issues des spécifications du VRP et de ses variantes.\n",
    "\n",
    "1️⃣ Contraintes de capacité\n",
    "\n",
    "Chaque véhicule possède une capacité maximale qu’il ne doit pas dépasser.\n",
    "Pour chaque route 𝑟, la somme des demandes 𝑑𝑖 des clients visités doit être inférieure ou égale à la capacité du véhicule :\n",
    "$$\n",
    "\\sum_{i \\in R} d_i \\le Q\n",
    "$$\n",
    "\n",
    "\n",
    "2️⃣ Contraintes de fenêtres temporelles\n",
    "\n",
    "Chaque client 𝑖 est associé à une fenêtre temporelle [𝑎𝑖,𝑏𝑖] pendant laquelle la livraison doit avoir lieu.Le véhicule peut arriver avant 𝑎𝑖(il attend), mais pas après 𝑏𝑖, sinon la solution est jugée infaisable ou pénalisée.\n",
    "\n",
    "3️⃣ Contraintes de flotte hétérogène\n",
    "\n",
    "Les véhicules disponibles ne sont pas identiques :\n",
    "certains ont une capacité plus élevée mais un coût d’exploitation supérieur ;d’autres ne sont compatibles qu’avec certains types de marchandises (ex. camions réfrigérés, camions « peluches », etc.).Chaque véhicule est donc caractérisé par un triplet :\n",
    "(capacite,cout,type_de_marchandise)\n",
    "\n",
    "4️⃣ Contraintes de trajet et de tournée\n",
    "\n",
    "Chaque client est visité exactement une fois.Chaque tournée commence et se termine au dépôt.Le véhicule ne peut pas dépasser sa capacité ni violer les contraintes temporelles.\n",
    "\n",
    "5️⃣ Contraintes de faisabilité inter-dépôts\n",
    "\n",
    "Dans certains cas, les dépôts sont spécialisés : un dépôt ne peut réapprovisionner qu’un type spécifique de marchandise.\n",
    "Ainsi, la compatibilité entre les camions et les dépôts fait également partie du modèle."
   ]
  },
  {
   "cell_type": "markdown",
   "id": "fb6367eb-7616-43cc-8910-a67f7808292a",
   "metadata": {},
   "source": [
    "# Representation des donnees"
   ]
  },
  {
   "cell_type": "markdown",
   "id": "cd745e72",
   "metadata": {},
   "source": [
    "Pour modéliser le problème de tournées de véhicules, il est nécessaire de définir précisément les ensembles, paramètres et variables utilisés.  \n",
    "\n",
    "### 🔹 1. Ensembles\n",
    "- \\( V = \\{0, 1, 2, ..., n\\} \\) : ensemble des sommets (le nœud \\( 0 \\) représente le dépôt).  \n",
    "- \\( C = V \\setminus \\{0\\} \\) : ensemble des clients à livrer.  \n",
    "- \\( K = \\{1, 2, ..., m\\} \\) : ensemble des véhicules disponibles.  \n",
    "\n",
    "### 🔹 2. Paramètres\n",
    "- \\( d_i \\) : demande (poids, volume ou nombre d’unités) du client \\( i \\).  \n",
    "- \\( Q_k \\) : capacité maximale du véhicule \\( k \\).  \n",
    "- \\( t_{ij} \\) : temps ou coût de trajet entre les points \\( i \\) et \\( j \\).  \n",
    "- \\( [a_i, b_i] \\) : fenêtre temporelle de livraison autorisée pour le client \\( i \\).  \n",
    "- \\( s_i \\) : temps de service (durée de la livraison) pour le client \\( i \\).  \n",
    "- \\( \\text{type}(k) \\) : type du véhicule \\( k \\) (dans le cas d’une flotte hétérogène).  \n",
    "\n",
    "### 🔹 3. Variables de décision\n",
    "- \\( x_{ijk} = 1 \\) si le véhicule \\( k \\) emprunte l’arc \\( (i,j) \\), et \\( 0 \\) sinon.  \n",
    "- \\( t_i \\) : heure d’arrivée du véhicule au client \\( i \\).  \n",
    "\n",
    "### 🔹 4. Données d’entrée\n",
    "Les données peuvent être représentées sous la forme :\n",
    "- d’une **matrice de distance ou de temps** \\( T = [t_{ij}] \\),  \n",
    "- d’un **vecteur de demandes** \\( D = [d_1, d_2, ..., d_n] \\),  \n",
    "- d’un **tableau de véhicules** avec leurs capacités et types,  \n",
    "- et d’un **ensemble de fenêtres temporelles** pour chaque client.\n",
    "\n",
    "### 🔹 5. Exemple de représentation\n",
    "Exemple simplifié sous forme de dictionnaires Python :  \n",
    "```python\n",
    "# Exemple de structure de données\n",
    "clients = {\n",
    "    1: {\"demand\": 10, \"time_window\": (8, 12)},\n",
    "    2: {\"demand\": 15, \"time_window\": (9, 14)},\n",
    "    3: {\"demand\": 8,  \"time_window\": (10, 16)}\n",
    "}\n",
    "\n",
    "vehicles = {\n",
    "    1: {\"capacity\": 25, \"type\": \"électrique\"},\n",
    "    2: {\"capacity\": 40, \"type\": \"diesel\"}\n",
    "}\n",
    "\n",
    "# Matrice des distances (symétrique)\n",
    "distance_matrix = [\n",
    "    [0, 10, 20, 15],\n",
    "    [10, 0, 25, 30],\n",
    "    [20, 25, 0, 35],\n",
    "    [15, 30, 35, 0]\n",
    "]\n",
    "\n",
    "\n"
   ]
  },
  {
   "cell_type": "markdown",
   "id": "abbb40c3",
   "metadata": {
    "vscode": {
     "languageId": "plaintext"
    }
   },
   "source": [
    "### Modelisation sous forme de graphe"
   ]
  },
  {
   "cell_type": "markdown",
   "id": "b8659c90-a49c-470a-a7b2-068a648d1a4d",
   "metadata": {},
   "source": [
    "D'un point de vue <b>théorique</b>, notre réseau de transport sera modéliser sous forme de <b>graphe</b>.\n",
    "\n",
    "Nous partons du principe que chaque <b>villes</b> et représenter par un <b><u>sommet</u></b> et que chaque <b>liaison</b> entre ces villes seront représenter par une <b><u>arrête</u></b>."
   ]
  },
  {
   "cell_type": "markdown",
   "id": "a39d26d5",
   "metadata": {},
   "source": [
    "<center><img src=\"images/representation_exemple.png\" width=\"250\"></center>"
   ]
  },
  {
   "cell_type": "markdown",
   "id": "3788271d",
   "metadata": {},
   "source": [
    "Dans l'exemple ci-dessus, nous avons 3 villes <b>A</b>, <b>B</b> et <b>C</b>.\n",
    "En supposant qu'il n'y ait pas de sens unique, on peut passer de la ville <b>A</b> à la ville et de la ville <b>B</b> à la ville <b>C</b> et vice-versa.\n",
    "\n",
    "Notre graphe pour modéliser le contexte et donc un <b><u>graphe non orienté</u></b>.\n",
    "\n",
    "Quant à la contrainte des <b>points de collectes</b>, nous avons décidé d'attribuer pour chaque point de collecte spécifique à une ville différente. C'est à dire qu'un sommet représentant une ville peut aussi être considérer comme étant un point de collecte."
   ]
  },
  {
   "cell_type": "markdown",
   "id": "ba5ad15d",
   "metadata": {},
   "source": [
    "<center><img src=\"images/representation_exemple1.png\" width=\"250\"></center>"
   ]
  },
  {
   "cell_type": "markdown",
   "id": "d6ac9d8d",
   "metadata": {},
   "source": [
    "Par exemple dans l'exemple ci-dessus, le point de collecte se situe à la ville <b>C</b>.\n",
    "\n",
    "On prendra en compte aussi que certain dépôt ne peut réapprovisionner que <b>certains type d'objets</b>. \n",
    "\n",
    "Par exemple si un camion qui livre seulement des peluches tombe à court de peluches à livrer, il ne pourra se réapprovisionner que dans un dépôt qui réapprovisionne des peluches."
   ]
  },
  {
   "cell_type": "markdown",
   "id": "27db6258",
   "metadata": {},
   "source": [
    "### Modelisation des camions"
   ]
  },
  {
   "cell_type": "markdown",
   "id": "c7aaf4d8",
   "metadata": {},
   "source": [
    "Pour la contrainte de <b>flotte hétérogène</b>, nous imaginons que chaque camions sera stocker en mémoire dans une structure de donnée spécifique qui seront des <b>tableaux</b>.\n",
    "\n",
    "Sachant que chaque camion ne peut livrer qu'un <b>seul type d'objet</b>, chaque tableaux devra contenir des camions pour un seul type d'objet spécifique uniquement.\n",
    "\n",
    "Cela nous permettra à la fois <b>d'organiser</b> facilement les camions en fonction du type d'objet mais aussi de pouvoir aller <b>chercher</b> un camion spécifique en particulier en accedant tout simplement au tableau."
   ]
  },
  {
   "cell_type": "markdown",
   "id": "e973313d",
   "metadata": {},
   "source": [
    "<center><img src=\"images/representation_exemple2.png\" width=\"250\"></center>"
   ]
  },
  {
   "cell_type": "markdown",
   "id": "1e2f26ba",
   "metadata": {},
   "source": [
    "Dans l'exemple ci-dessus, nous imaginons que des camions qui ne transporte que des peluches seront tous ranger dans un même tableau en commun. Nous avons dans l'exemple 6 camions (A1, A2, ..., A6)."
   ]
  },
  {
   "cell_type": "markdown",
   "id": "fc30ace7-10cb-4a0c-905d-b1d8b1621cc5",
   "metadata": {},
   "source": [
    "# Complexite du probleme"
   ]
  },
  {
   "cell_type": "markdown",
   "id": "3ebddd1b-0546-48fb-ae8c-344abd759f35",
   "metadata": {},
   "source": [
    "(À compléter -> Oumar + les autres)"
   ]
  },
  {
   "cell_type": "markdown",
   "id": "a7040c28-809c-4510-be6f-450ed83ee186",
   "metadata": {},
   "source": [
    "# Solutions et outils proposees"
   ]
  },
  {
   "cell_type": "markdown",
   "id": "96b4b807-9aaf-44cd-841a-ad316ea886d1",
   "metadata": {},
   "source": [
    "(À compléter -> Ryan)"
   ]
  },
  {
   "cell_type": "markdown",
   "id": "3f6f05ce-7dce-4163-ba76-5e339f756d23",
   "metadata": {},
   "source": [
    "# Bibliographie"
   ]
  },
  {
   "cell_type": "markdown",
   "id": "66432e0e-90c4-40e3-99ae-55cada63b112",
   "metadata": {},
   "source": [
    "(À compléter -> Tout le monde)"
   ]
  },
  {
   "cell_type": "markdown",
   "id": "047da987-a05d-4251-b518-f754ff03f9c8",
   "metadata": {},
   "source": [
    "Site qui explique comment implémenter des graphes et appliquer des algorithmes connues d'un point de vue informatique :\n",
    "https://www.geeksforgeeks.org/dsa/graph-data-structure-and-algorithms/"
   ]
  }
 ],
 "metadata": {
  "kernelspec": {
   "display_name": "Python 3 (ipykernel)",
   "language": "python",
   "name": "python3"
  },
  "language_info": {
   "codemirror_mode": {
    "name": "ipython",
    "version": 3
   },
   "file_extension": ".py",
   "mimetype": "text/x-python",
   "name": "python",
   "nbconvert_exporter": "python",
   "pygments_lexer": "ipython3",
   "version": "3.12.11"
  }
 },
 "nbformat": 4,
 "nbformat_minor": 5
}
