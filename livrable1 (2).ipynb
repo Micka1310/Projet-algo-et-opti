{
 "cells": [
  {
   "cell_type": "markdown",
   "id": "73fa017f-7ca9-4a2b-bc36-ab373b0d1bdc",
   "metadata": {},
   "source": [
    "<center><img src=\"images/logo_CESI.png\" width=\"250\"></center>"
   ]
  },
  {
   "cell_type": "markdown",
   "id": "f0b9dd1c-b327-461e-a2ac-bba66f2208e6",
   "metadata": {},
   "source": [
    "# <center><b>Projet algorithmique et optimisation combinatoire</b></center>\n",
    "# <center><b>Livrable 1</b></center>\n",
    "\n",
    "<p><center><b><u>Groupe de projet</u> :</b></center></p>\n",
    "<center><b>Mickaël King</b></center>\n",
    "<center><b>Ryan DORKENOO</b></center>\n",
    "<center><b>(À compléter)</b></center>\n",
    "<center><b>(À compléter)</b></center>\n",
    "\n",
    "<p><center><b><u>Tuteur</u> : Mohamed Belgacem</b></center></p>\n",
    "<p><center><b><u>Promotion</u> : FISE A3 Informatique</b></center></p>"
   ]
  },
  {
   "cell_type": "markdown",
   "id": "35079a7a-690b-4114-b1e8-57a822a84c2f",
   "metadata": {},
   "source": [
    "# Sommaire\n",
    "\n",
    "1. [Contexte](#1.-Contexte)\n",
    "2. [Problématique](#2.-Problematique)\n",
    "3. [Propriété théorique](#3.-Propriete-theorique)\n",
    "4. [Contraintes](#4.-Contraintes)\n",
    "5. [Représentation des données](#5.-Representation-des-donnees)\n",
    "    * a. [Modélisation sous forme de graphe](#a.-Modelisation-sous-forme-de-graphe)\n",
    "    * b. [Modélisation du temps de livraison](#b.-Modelisation-du-temps-de-livraison)\n",
    "    * c. [Modélisation du traffic dynamique](#c.-Modelisation-du-traffic-dynamique)\n",
    "    * d. [Modélisation des points de collectes](#d.-Modelisation-des-points-de-collectes)\n",
    "    * e. [Modélisation des camions](#e.-Modelisation-des-camions)\n",
    "6. [Complexité du problème](#6.-Complexite-du-probleme)\n",
    "7. [Conclusion](#7.-conclusion)\n",
    "8. [Bibliographie](#8.-Bibliographie)"
   ]
  },
  {
   "cell_type": "markdown",
   "id": "79ca753a-8288-41d7-9d2f-c70e29918d0c",
   "metadata": {},
   "source": [
    "# 1. Contexte"
   ]
  },
  {
   "cell_type": "markdown",
   "id": "9ff47f78-c0ed-43aa-a62e-b3e40ae644cc",
   "metadata": {},
   "source": [
    "(À compléter -> Mohamed)"
   ]
  },
  {
   "cell_type": "markdown",
   "id": "8cbc4307-9cda-4127-8786-27a13a64213e",
   "metadata": {},
   "source": [
    "# 2. Problème/probématique"
   ]
  },
  {
   "cell_type": "markdown",
   "id": "78999a34-c0c6-4f4b-b964-b48ce8179aee",
   "metadata": {},
   "source": [
    "Dans ce projet il s’agit de concevoir et implémenter une méthode issue de la Recherche Opérationnelle permettant de calculer, sur un réseau routier, des tournées de livraison réalistes et scalables. Chaque tournée doit partir et revenir à une base, desservir un sous-ensemble de points (collectes/livraisons) et minimiser un critère temporel en tenant compte du trafic prévu (temps de parcours variant selon les tranches horaires) et, selon l’option choisie, d’un ou plusieurs autres types de contraintes opérationnelles (fenêtres temporelles, flotte multiple, capacités, compatibilités véhicules-objets, points de collecte distincts, etc.).\n",
    "\n",
    "Comment concevoir et mettre en œuvre une méthode de résolution efficace, robuste et scalable (capable de traiter plusieurs milliers de points) pour le problème de tournée de livraison sur réseau routier à temps dépendant, qui intègre des contraintes opérationnelles réalistes et qui, par son efficacité, permettra de réduire les durées de transport et l’impact environnemental associé ?\n"
   ]
  },
  {
   "cell_type": "markdown",
   "id": "1673051a-72d5-4655-98b8-1797565583c7",
   "metadata": {},
   "source": [
    "# 3. Propriete theorique"
   ]
  },
  {
   "cell_type": "markdown",
   "id": "5d863a1c-4b5d-4828-91fa-11b9c27a27d9",
   "metadata": {},
   "source": [
    "(À compléter -> Oumar)"
   ]
  },
  {
   "cell_type": "markdown",
   "id": "3ccb3633-0e0a-47ac-b4bf-45ecdbdc0235",
   "metadata": {},
   "source": [
    "# 4. Contraintes"
   ]
  },
  {
   "cell_type": "markdown",
   "id": "e630c297-a78a-4f0b-864e-80ef70f9d5df",
   "metadata": {},
   "source": [
    "(À compléter -> Mohamed)"
   ]
  },
  {
   "cell_type": "markdown",
   "id": "fb6367eb-7616-43cc-8910-a67f7808292a",
   "metadata": {},
   "source": [
    "# 5. Representation des donnees"
   ]
  },
  {
   "cell_type": "markdown",
   "id": "38beea2c",
   "metadata": {},
   "source": [
    "(À compléter -> Ryan)"
   ]
  },
  {
   "cell_type": "markdown",
   "id": "abbb40c3",
   "metadata": {
    "vscode": {
     "languageId": "plaintext"
    }
   },
   "source": [
    "### a. Modelisation sous forme de graphe"
   ]
  },
  {
   "cell_type": "markdown",
   "id": "b8659c90-a49c-470a-a7b2-068a648d1a4d",
   "metadata": {},
   "source": [
    "D'un point de vue <b>théorique</b>, notre réseau de transport sera modélisé sous forme de <b>graphe</b>.\n",
    "\n",
    "Nous partons du principe que chaque <b>villes</b> et représenter par un <b><u>sommet</u></b> et que chaque <b>liaison</b> entre ces villes seront représenter par une <b><u>arrête</u></b>."
   ]
  },
  {
   "cell_type": "markdown",
   "id": "a39d26d5",
   "metadata": {},
   "source": [
    "<center><img src=\"images/representation_forme1.png\" width=\"250\"></center>"
   ]
  },
  {
   "cell_type": "markdown",
   "id": "969db571",
   "metadata": {},
   "source": [
    "Dans l'exemple ci-dessus, nous avons 3 villes <b>A</b>, <b>B</b> et <b>C</b>.\n",
    "En supposant qu'il n'y ait pas de sens unique, on peut passer de la ville <b>A</b> à la ville et de la ville <b>B</b> à la ville <b>C</b> et vice-versa.\n",
    "\n",
    "Notre graphe pour modéliser le contexte et donc un <b><u>graphe non orienté</u></b>.\n",
    "\n",
    "D'un point de vue <b>informatique</b>, un graphe sera représenté par un <b><u>tableau</u></b> auquel chaque <b>élément</b> correspondra à un <b>sommet</b> et son contenue aura les sommets auquel il est <b>lié</b>."
   ]
  },
  {
   "cell_type": "markdown",
   "id": "71a9f396",
   "metadata": {},
   "source": [
    "<center><img src=\"images/representation_forme2.png\" width=\"250\"></center>"
   ]
  },
  {
   "cell_type": "markdown",
   "id": "3788271d",
   "metadata": {},
   "source": [
    "Par exemple le tableau ci-dessus représente le graphe présenter précédemment.\n",
    "\n",
    "On peut voir que le premier élément <b>('A')</b> contient <b>'B'</b> car la ville <b>'A'</b> est lié à la ville <b>'B'</b>. Le deuxième élément <b>('B')</b> lui est lié à la ville <b>'A'</b> et <b>'C'</b>, ..."
   ]
  },
  {
   "cell_type": "markdown",
   "id": "ba78a408",
   "metadata": {},
   "source": [
    "### b. Modelisation du temps de livraison"
   ]
  },
  {
   "cell_type": "markdown",
   "id": "6ecf905e",
   "metadata": {},
   "source": [
    "La contrainte de <b>fenêtre temporelle</b> peut être appliquer en ayant un <b>système de temps</b> implémenter.\n",
    "\n",
    "Cela permettra ainsi de s'assurer que chaque camion livre dans une plage horaire ou de temps <b>autorisé</b>.\n",
    "\n",
    "Cela permet aussi que chaque camions ne livrent pas leurs commandes dans le <b>désordre</b> pour éviter de potentielle retard."
   ]
  },
  {
   "cell_type": "markdown",
   "id": "65768d81",
   "metadata": {},
   "source": [
    "<center><img src=\"images/representation_temps1.png\" width=\"400\"></center>"
   ]
  },
  {
   "cell_type": "markdown",
   "id": "c0dd36e2",
   "metadata": {},
   "source": [
    "Par exemple si un camion doit livrer un objet à <b>18h</b> et un autre à <b>20h</b>, il devra d'abord livrer celle à <b>18h</b> puis celle à <b>20h</b>."
   ]
  },
  {
   "cell_type": "markdown",
   "id": "28a97028",
   "metadata": {},
   "source": [
    "Pour la <b>version avancée</b>, nous choisissons d'ajouter un <b>status</b> à chaque camion pour savoir s'il est <b>disponible ou non</b>.\n",
    "\n",
    "Lorsqu'un camion est disponible, on considère qu'il part <b>en avance</b> vers la prochaine destination de sa livraison et effectuera sa livraison <b>que quand il sera l'heure de le faire</b>."
   ]
  },
  {
   "cell_type": "markdown",
   "id": "4b83b39d",
   "metadata": {},
   "source": [
    "<center><img src=\"images/representation_temps2.png\" width=\"400\"></center>"
   ]
  },
  {
   "cell_type": "code",
   "execution_count": null,
   "id": "87df7912",
   "metadata": {
    "vscode": {
     "languageId": "plaintext"
    }
   },
   "outputs": [],
   "source": [
    "#exemple de code\n",
    "\n",
    "graph = {\n",
    "    \"A\": {\"B\": 10},\n",
    "    \"B\": {\"A\": 10, \"C\": 10},\n",
    "    \"C\": {\"B\": 10}\n",
    "}\n",
    "\n",
    "livraisons = {\n",
    "    \"A\": 18,\n",
    "    \"C\": 20\n",
    "}\n",
    "\n",
    "camion = {\n",
    "    \"position\": \"B\",\n",
    "    \"heure_actuelle\": 17,\n",
    "    \"statut\": \"disponible\"\n",
    "}"
   ]
  },
  {
   "cell_type": "markdown",
   "id": "8a5546b1",
   "metadata": {},
   "source": [
    "Par exemple en reprenant l'exemple précédent, imaginons qu'il est 17h00 est que le camion est <b>actuellement disponible</b>. \n",
    "\n",
    "Le camion ira alors en avance vers la destination de sa prochaine livraison qui est à la ville <b>'A'</b>."
   ]
  },
  {
   "cell_type": "markdown",
   "id": "841c90b9",
   "metadata": {},
   "source": [
    "<center><img src=\"images/representation_temps3.png\" width=\"400\"></center>"
   ]
  },
  {
   "cell_type": "code",
   "execution_count": null,
   "id": "c3a9c9df",
   "metadata": {
    "vscode": {
     "languageId": "plaintext"
    }
   },
   "outputs": [],
   "source": [
    "if camion[\"statut\"] == \"disponible\":\n",
    "    camion[\"statut\"] = \"indisponible\"\n",
    "    camion[\"position\"] = dest    # il part vers A\n",
    "    camion[\"heure\"] = 17.5       # exemple : il est 17h30 en route\n",
    "    print(f\"[{camion['heure']}h] Le camion roule vers {dest} → statut : {camion['statut']}\")"
   ]
  },
  {
   "cell_type": "markdown",
   "id": "5ed925e2",
   "metadata": {},
   "source": [
    "Le camion arrivant à destination, comme il n'est pas encore l'heure de la livraison (18h), il restera <b>indisponible</b> et ne bougera plus jusqu'à ce que qu'il soit l'heure de sa livraison."
   ]
  },
  {
   "cell_type": "markdown",
   "id": "be8819d8",
   "metadata": {},
   "source": [
    "<center><img src=\"images/representation_temps4.png\" width=\"400\"></center>"
   ]
  },
  {
   "cell_type": "markdown",
   "id": "1e2866e7",
   "metadata": {},
   "source": [
    "Lorsque l'heure de livraison sera <b>atteint</b>, le camion livre son objet et il devient de nouveau <b>disponible</b>.\n",
    "\n",
    "À partir de cet instant, le camion pourra à nouveau partir en avance pour aller faire sa prochaine commande qui se trouve à la ville <b>'C'</b> et répètera ainsi le processus..."
   ]
  },
  {
   "cell_type": "markdown",
   "id": "a04b124f",
   "metadata": {},
   "source": [
    "### c. Modelisation du traffic dynamique"
   ]
  },
  {
   "cell_type": "markdown",
   "id": "4f50e131",
   "metadata": {},
   "source": [
    "La contrainte du <b>traffic dynamique</b> sera implémenter en ajoutant des <b>valeurs de temps</b> de trajet pour les <b>liaisons</b> de chaque <b>villes (arrête)</b>."
   ]
  },
  {
   "cell_type": "markdown",
   "id": "4c9a6965",
   "metadata": {},
   "source": [
    "<center><img src=\"images/representation_traffic1.png\" width=\"400\"></center>"
   ]
  },
  {
   "cell_type": "markdown",
   "id": "0ade0acd",
   "metadata": {},
   "source": [
    "Cette modélisation sera faite en stockant un <b>tableau supplémentaire</b> à chaque <b>élément</b> du tableau représentant les <b>villes</b>.\n",
    "\n",
    "Ces tableaux supplémentaire vont contenir pour <b>chacun</b> de ses éléments : \n",
    "- la <b>ville</b> auquel il est <b>lié</b>\n",
    "- la <b>valeur de temps</b> que ca prend pour <b>parcourir</b> jusqu'a cette ville."
   ]
  },
  {
   "cell_type": "markdown",
   "id": "a0bc370e",
   "metadata": {},
   "source": [
    "<center><img src=\"images/representation_traffic2.png\" width=\"450\"></center>"
   ]
  },
  {
   "cell_type": "markdown",
   "id": "a791f205",
   "metadata": {},
   "source": [
    "Par exemple, pour passer de la ville <b>'A'</b> à la ville <b>'B'</b> et vice-versa, le camion prendra <b>20 minutes</b>."
   ]
  },
  {
   "cell_type": "code",
   "execution_count": null,
   "id": "5c74f54d",
   "metadata": {
    "vscode": {
     "languageId": "plaintext"
    }
   },
   "outputs": [],
   "source": [
    "G = {\n",
    "    \"A\": {\"B\": 20, \"C\": 10},\n",
    "    \"B\": {\"A\": 20, \"C\":  5},\n",
    "    \"C\": {\"A\": 10, \"B\":  5},\n",
    "}\n",
    "\n",
    "# Trafic dynamique par arête : (debut, fin, multiplicateur) \n",
    "# Ex: A-B est 50% plus lent aux heures de pointe 7-9 et 17-19.\n",
    "TRAFFIC = {\n",
    "    (\"A\", \"B\"): [(7, 9, 1.5), (17, 19, 1.5)],\n",
    "    (\"B\", \"C\"): [(12, 14, 1.2)],\n",
    "    # (\"A\",\"C\"): []  # pas de surcharge\n",
    "}"
   ]
  },
  {
   "cell_type": "markdown",
   "id": "5bc78030",
   "metadata": {},
   "source": [
    "Pour la <b>version avancée</b>, on a choisit d'implémenter un <b>système horraire</b> qui permettra à <b>certaine heures</b> de pouvoir changer le temps de trafics de <b>certaines liaisons</b> à un temps donner."
   ]
  },
  {
   "cell_type": "markdown",
   "id": "a5f56f6c",
   "metadata": {},
   "source": [
    "<center><img src=\"images/representation_traffic3.png\" width=\"400\"></center>"
   ]
  },
  {
   "cell_type": "markdown",
   "id": "87e6ae62",
   "metadata": {},
   "source": [
    "<center><img src=\"images/representation_traffic4.png\" width=\"400\"></center>"
   ]
  },
  {
   "cell_type": "markdown",
   "id": "ba1952c7",
   "metadata": {},
   "source": [
    "Par exemple entre la ville <b>'A'</b> et <b>'B'</b>, nous avons à :\n",
    "- <b>10h00</b> : un temps de parcours de <b>20 minutes</b>\n",
    "- <b>20h00</b> : un temps de parcoutrs de <b>12 minutes</b>"
   ]
  },
  {
   "cell_type": "markdown",
   "id": "619e5b74",
   "metadata": {},
   "source": [
    "### d. Modelisation des points de collectes"
   ]
  },
  {
   "cell_type": "markdown",
   "id": "f2b54373",
   "metadata": {},
   "source": [
    "Pour la contrainte des <b>points de collectes</b>, nous avons décidé d'attribuer pour chaque point de collecte spécifique à une ville différente. \n",
    "\n",
    "C'est à dire qu'un <b>sommet représentant une ville</b> peut aussi être considérer comme étant un point de collecte."
   ]
  },
  {
   "cell_type": "markdown",
   "id": "ba5ad15d",
   "metadata": {},
   "source": [
    "<center><img src=\"images/representation_point1.png\" width=\"250\"></center>"
   ]
  },
  {
   "cell_type": "markdown",
   "id": "d6ac9d8d",
   "metadata": {},
   "source": [
    "Par exemple dans l'exemple ci-dessus, le <b>point de collecte</b> se situe à la ville <b>'C'</b>.\n",
    "\n",
    "Si un camion veut se <b>réapprovisionner</b>, il devra aller à la ville <b>'C'</b>."
   ]
  },
  {
   "cell_type": "markdown",
   "id": "c44d04f1",
   "metadata": {},
   "source": [
    "Pour la <b>version avancée</b>, il suffira de placer différents points de collecte à une ville spécifique au lieu d'un seul.\n",
    "\n",
    "On prendra en compte aussi que certain dépôt ne peut réapprovisionner que <b>certains types d'objets</b>. "
   ]
  },
  {
   "cell_type": "markdown",
   "id": "e07102fb",
   "metadata": {},
   "source": [
    "<center><img src=\"images/representation_point2.png\" width=\"350\"></center>"
   ]
  },
  {
   "cell_type": "markdown",
   "id": "23415673",
   "metadata": {},
   "source": [
    "Par exemple imaginons qu'un camion qui livre seulement des <b>bouteilles</b> tombe à court de bouteilles à livrer. Il ne pourra se réapprovisionner que dans un dépôt qui réapprovisionne des bouteilles.\n",
    "\n",
    "Il devra donc passer par la ville <b>'B'</b>."
   ]
  },
  {
   "cell_type": "markdown",
   "id": "27db6258",
   "metadata": {},
   "source": [
    "### e. Modelisation des camions"
   ]
  },
  {
   "cell_type": "markdown",
   "id": "c7aaf4d8",
   "metadata": {},
   "source": [
    "Quant à la contrainte de <b><u>flotte hétérogène</u></b>, nous décidons que chaque camion sera stocké en mémoire dans une structure de donnée spécifique qui seront des <b><u>tableaux</u></b>.\n",
    "\n",
    "Sachant que chaque camion ne peut livrer qu'un <b>seul type d'objet</b>, chaque tableau devra contenir des camions pour un seul type d'objet spécifique uniquement.\n",
    "\n",
    "Cela nous permettra à la fois <b>d'organiser</b> facilement les camions en fonction du type d'objet mais aussi de pouvoir aller <b>chercher</b> un camion spécifique en particulier en accédant tout simplement au tableau."
   ]
  },
  {
   "cell_type": "markdown",
   "id": "e973313d",
   "metadata": {},
   "source": [
    "<center><img src=\"images/representation_camion1.png\" width=\"250\"></center>"
   ]
  },
  {
   "cell_type": "markdown",
   "id": "1e2f26ba",
   "metadata": {},
   "source": [
    "Dans l'exemple ci-dessus, nous imaginons que des camions qui ne transporte que des peluches seront tous ranger dans un <b>même tableau en commun</b>. Nous avons dans l'exemple 6 camions ('A1', 'A2', ..., 'A6').\n",
    "\n",
    "Pour la <b>version avancée</b>, de <b>nouveaux tableaux</b> qui contiendront la <b>valeur du stock actuel</b> d'un camion spécifique pourront être stocker à l'intérieur de chaque élément d'un tableau de camion."
   ]
  },
  {
   "cell_type": "markdown",
   "id": "0098f8a6",
   "metadata": {},
   "source": [
    "<center><img src=\"images/representation_camion2.png\" width=\"250\"></center>"
   ]
  },
  {
   "cell_type": "markdown",
   "id": "8b905e71",
   "metadata": {},
   "source": [
    "En reprenant l'exemple précedent, chaque <b>élément</b> du tableau contient maintenant un nouveau tableau.\n",
    "\n",
    "Ces tableaux contiennent elles-même un élément qui est une valeur du stock actuel du camion auquel ils sont <b>lié</b>.\n",
    "\n",
    "Par exemple, le camion <b>'A1'</b> a actuellement 5 peluches, le camion <b>'A2'</b> a 2 peluches, le camion <b>'A3'</b> a 4 peluches, ..."
   ]
  },
  {
   "cell_type": "markdown",
   "id": "1d300847",
   "metadata": {},
   "source": [
    "Comment les données vont elles etre représentées ?"
   ]
  },
  {
   "cell_type": "markdown",
   "id": "412d7668",
   "metadata": {},
   "source": [
    "-Modélisation des données POO: \n",
    "\n",
    "Créer une classe PointLivraison (ou Ville) : chaque instance représente un point du problème et encapsule toutes les informations qui lui sont propres (identifiant, coordonnées, demande, fenêtre temporelle, point de collecte associé, types de véhicules acceptés, temps de service). La classe contient aussi des méthodes utilitaires (distance vers un autre point, test de compatibilité avec un véhicule)\n",
    "\n",
    "\n",
    "Pourquoi c’est un bon choix \n",
    "•\tLisibilité & maintenance : toutes les données liées à un point sont au même endroit ; le code est plus facile à lire et à maintenir.\n",
    "\n",
    "•\tExtensibilité : ajouter une nouvelle contrainte (par ex. température requise, fragilité) se fait en ajoutant un attribut et, éventuellement, une méthode ; les autres composants restent inchangés.\n",
    "\n",
    "•\tDébogage & tests unitaires : on peut isoler la logique d’un point (tests pour est_compatible, calcul de distance).\n",
    "\n",
    "•\tCorrespondance avec le graphe : chaque objet peut être lié directement au nœud du graphe (ex. G.nodes[pid]['obj'] = point), ce qui facilite les opérations graphiques et les mises à jour de métadonnées.\n"
   ]
  },
  {
   "cell_type": "markdown",
   "id": "01ae29ec",
   "metadata": {},
   "source": [
    "Détail de l'implémentation:\n"
   ]
  },
  {
   "cell_type": "code",
   "execution_count": null,
   "id": "62c2c960",
   "metadata": {},
   "outputs": [],
   "source": [
    "\n",
    "from dataclasses import dataclass\n",
    "from typing import Optional, Tuple, Set\n",
    "\n",
    "@dataclass\n",
    "class PointLivraison:\n",
    "    id: int\n",
    "    x: float\n",
    "    y: float\n",
    "    demande: float = 0.0\n",
    "    fenetre: Optional[Tuple[float,float]] = None  # (a,b) ou None\n",
    "    collecte_id: Optional[int] = None            # id du point pickup si applicable\n",
    "    vehicules_acceptes: Optional[Set[str]] = None\n",
    "    temps_service: float = 0.0\n",
    "\n",
    "    def distance_euclidienne(self, autre) -> float:\n",
    "        dx, dy = self.x - autre.x, self.y - autre.y\n",
    "        return (dx*dx + dy*dy)**0.5\n",
    "\n",
    "    def est_compatible(self, vehicule_type: str) -> bool:\n",
    "        return (self.vehicules_acceptes is None) or (vehicule_type in self.vehicules_acceptes)\n",
    "\n"
   ]
  },
  {
   "cell_type": "markdown",
   "id": "10de182c",
   "metadata": {},
   "source": [
    "-Utiliser des sommets pour représenter les points de livraison:\n",
    "\n",
    "Représenter le réseau routier par un graphe G=(V,E)où chaque sommet v∈V est un point de livraison (ou dépôt) et chaque arête e=(u,v)∈E représente une liaison routière entre deux points. Les arêtes portent des attributs (poids = distance/temps, profil temporel, sens unique).\n",
    "\n",
    "\n",
    "Pourquoi c’est pertinent :\n",
    "\n",
    "Représentation naturelle: TSP/VRP sont des problèmes de graphe ; travailler directement sur un graphe facilite l’accès aux algorithmes standards (plus courts chemins, MST, composantes).\n",
    "\t\n",
    "\t• Extensible: on peut ajouter des attributs par arête/sommet sans refondre la modélisation.\n",
    "\n",
    "\t• Manipulation pratique: suppression/ajout de nœuds, contraction, sous-graphes selon zone géographique.\n",
    "\n",
    "\t• Compatibilité: facilite l’utilisation de bibliothèques (NetworkX, routing engines) et l’intégration avec des cartes (GeoPandas, Plotly).\n",
    "\n",
    "Points d’attention :\n",
    "\n",
    "Si le graphe réel est très grand, attention à la mémoire et aux temps de calcul ; privilégier des sous-graphes, échantillonnage ou index spatial (R-tree) pour requêtes locales.Stocker les profils temporels volumineux hors du graphe (références vers dictionnaires) pour garder G léger.\n"
   ]
  },
  {
   "cell_type": "markdown",
   "id": "d7e935e8",
   "metadata": {},
   "source": [
    "Détail d'implémentation:\n",
    "\n",
    "\t"
   ]
  },
  {
   "cell_type": "code",
   "execution_count": null,
   "id": "f30a1bdb",
   "metadata": {},
   "outputs": [],
   "source": [
    "import networkx as nx\n",
    "\tG = nx.DiGraph()   # ou nx.Graph() si pas besoin d'orienté\n",
    "\tfor p in points:\n",
    "\t    G.add_node(p.id, obj=p)\n",
    "\tG.add_edge(u_id, v_id, weight=distance, time_profile=profile)\n",
    "\tAttributs utiles : weight (distance ou durée), time_profile (durée selon tranche horaire), max_vehicle_type, speed_limit."
   ]
  },
  {
   "cell_type": "markdown",
   "id": "d3112d94",
   "metadata": {},
   "source": [
    "Paramètre “n” = nombre de livraisons:\n",
    "\n",
    "Définir n comme le nombre de points clients à desservir (hors dépôt). C’est la métrique principale de taille de l’instance.\n",
    "\n",
    "Utilisation et rôle:\n",
    "\n",
    "•\tSert à dimensionner les tests (on exécutera les algorithmes pour plusieurs valeurs de n pour évaluer scalabilité).\n",
    "\n",
    "•\tPermet de choisir les structures de données et algorithmes adaptés (ex. pour n < 100 on peut tester des approches plus coûteuses ; pour n > 2000 il faut heuristiques très scalables).\n",
    "\n",
    "•\tn guide aussi la stratégie de plan d’expérience (jeux d’instances petits, moyens, grands).\n",
    "\n",
    "importance:\n",
    "\n",
    "•\tInfluence directement la complexité combinatoire (exponentielle pour permutations complètes).\n",
    "\n",
    "•\tPermet de communiquer clairement la capacité de votre méthode.\n",
    "\n",
    "•\tUtile pour les indicateurs expérimentaux (temps CPU en fonction de n, qualité vs n).\n",
    "\n",
    "Graphe pondéré non orienté / orienté:\n",
    "\n",
    "Chaque arête possède un poids (weight) représentant distance, durée, ou coût énergétique. Choisir un graphe orienté (DiGraph) si certaines rues sont à sens unique ou si coûts diffèrent selon la direction.\n",
    "\n",
    "Pourquoi c’est un bon choix :\n",
    "\n",
    "•\tRéalisme : prend en compte sens uniques, contraintes de circulation et asymétries.\n",
    "\n",
    "•\tIntégration du trafic : le poids peut être une fonction du temps (travel_time_profile), facilitant la modélisation temps-dépendante.\n",
    "\n",
    "•\tCompatibilité : avec Dijkstra, A*, et algorithmes de routage temps-dépendants (avec adaptations).\n"
   ]
  },
  {
   "cell_type": "markdown",
   "id": "13ca4167",
   "metadata": {},
   "source": [
    "Choix techniques Bibliothèque networkx:\n",
    "\n",
    "Utiliser NetworkX pour manipuler le graphe, effectuer des requêtes (voisins, poids), et appeler des algorithmes (Dijkstra, MST).\n",
    "\n",
    "Avantages pratiques:\n",
    "\n",
    "\tAPI riche et intuitive, documentation et communauté active.\n",
    "\n",
    "\tFonctions intégrées : nx.shortest_path_length, nx.minimum_spanning_tree, nx.connected_components.\n",
    "\n",
    "\tIntégration aisée avec pandas, numpy, matplotlib, plotly / dash.\n",
    "\n",
    "Limites et solutions:\n",
    "\n",
    "\tPerformance : pour très grands graphes, networkx (pure Python) peut être lent. Solution : prototypage avec NetworkX, puis optimisation \n",
    "\n",
    "\tStockage large de profils : externaliser les profils volumineux vers structures spécialisées (HDF5, dictionnaires persistants).\n",
    "\n",
    "Représentation des distances (dictionnaire vs matrice):\n",
    " \n",
    "Deux options courantes :\n",
    "\n",
    "\tMatrice dense (numpy 2D) : accès O(1), très efficace pour opérations vectorisées.\n",
    "\n",
    "\tDictionnaire de dictionnaires (dict[u][v]) : stockage sparse, flexible, lisible.\n",
    "\n",
    "Argument:\n",
    "\n",
    "\tSparsité naturelle du réseau routier : la matrice dense allouerait O(n²) éléments même si beaucoup sont absents.\n",
    "\n",
    "\tFlexibilité sémantique : chaque entrée peut contenir non seulement un scalaire, mais un dict avec distance, time_profile, restrictions.\n",
    "\n",
    "\tCompatibilité NetworkX : NetworkX utilise des dicts pour les voisins(cohérence des accès )\n",
    "\n",
    "\tMaintenance & debug : format lisible, facile à vérifier et modifier manuellement dans les notebooks.\n",
    "\n",
    "Quand préférer la matrice:\n",
    "\n",
    "\tLorsque le graphe est complet (matrice métrique), et que vous effectuez beaucoup d’opérations vectorisées (algèbre linéaire, calculs all-pairs optimisés).\n",
    "\tMais pour la plupart des cas routiers réels, le dictionnaire est plus adapté.\n",
    "\n",
    "Interface  utiliser Dash pour l’affichage:\n",
    "\n",
    "Construire un tableau de bord interactif (Dash + Plotly) pour visualiser le graphe, lancer des scénarios, afficher les tournées et animer le déplacement des véhicules.\n",
    "\n",
    "Fonctionnalités recommandées:\n",
    "\tCarte ou scatter plot des points (dépôt, pickups, deliveries).\n",
    "\n",
    "\tLignes représentant trajets, colorées par véhicule ou par statut (en cours, terminé).\n",
    "\n",
    "\tContrôles d’entrée : sélection d’instance (n), paramètres d’algorithme, heure de départ, bruit sur trafic.\n",
    "\n",
    "\tSlider temporel pour animer un trajet et voir l’effet du profil trafic.\n",
    "\n",
    "\tAffichage de métriques en temps réel : coût, makespan, violation de contraintes.\n",
    "\n",
    "Pourquoi c’est utile :\n",
    "\n",
    "\tCommunication : rend le projet parlant pour l’ADEME — l’impact et le comportement deviennent tangibles.\n",
    "\n",
    "\tDébogage visuel : repérer facilement erreurs de tournées, détours anormaux, ou violations de contraintes.\n",
    "\n",
    "\tInteractivité : tester plusieurs configurations sans relancer le notebook.\n",
    "\n",
    "Choix algorithmiques (Prim et Dijkstra):\n",
    "\n",
    "Dijkstra (rôle et adaptation )\n",
    "\n",
    "\tRôle classique : calculer le plus court chemin entre deux nœuds dans un graphe pondéré (utile pour construire une matrice de distances entre points d’intérêt).\n",
    "\n",
    "\tUtilité pratique :\n",
    "\tconstruire une matrice dist[i][j] (cas où le graphe n’est pas complet),\n",
    "\testimer coût d’insertion d’un point dans une tournée,\n",
    "\tservir de base à heuristiques d’insertion.\n",
    "\n",
    "\tAdaptation pour temps-dépendant : il existe une version « time-dependent Dijkstra » où le poids d’une arête dépend du temps de départ. Implémentation plus lourde : on doit propager temps d’arrivée et recalculer coût d’arête au moment du passage. Pour prototype, une approximation par tranches horaires (profil discret) est souvent suffisante.\n",
    "\n",
    "Prim rôle et utilisation \n",
    "\n",
    "\tRôle : construire un arbre couvrant minimal (MST) sur le graphe complet (ou métrique).\n",
    "\n",
    "\tUtilité pour TSP : MST parcours préfixe (ou heuristique de Christofides pour métrique) pour produire une solution initiale raisonnable rapidement.\n",
    "\n",
    "\tChaîne classique : Dijkstra (faire matrice métrique) → Prim (MST) → parcours → amélioration locale (2-opt/3-opt/LNS).\n",
    "\n",
    "Complexité et performance \n",
    "\n",
    "\tDijkstra : O(∣E∣+∣V∣log⁡∣V∣)par source (avec heap). Pour calculer toutes-pairs, coûte O(∣V∣(∣E∣+∣V∣log⁡∣V∣))— souvent inabordable pour très grands graphes ; préférer calculs partiels (entre points d’intérêt seulement).\n",
    "\n",
    "\tPrim : comparable à Dijkstra en complexité, utilisable en O(∣E∣+∣V∣log⁡∣V∣).\n",
    "\n",
    "Problème central  (TSP comme cœur conceptuel)\n",
    "\n",
    "Le TSP (un véhicule, visiter tous les points, revenir au dépôt) est la version la plus simple et la pierre angulaire. Le VRP est une extension multi-véhicules du TSP avec contraintes supplémentaires.\n",
    "\n",
    "Pourquoi partir du TSP?\n",
    "\n",
    "\tPermet de valider les opérateurs locaux (2-opt, swap, insertion) et les composantes d’un algorithme d’amélioration avant d’ajouter la complexité multi-véhicule.\n",
    "\tDonne des références (instances TSPLIB, bornes) pour évaluer la qualité des heuristiques.\n",
    "\tFacilite la progressivité du développement : prototype TSP → VRP capacitaire → VRP hétérogène → pickup/delivery.\n",
    "\n",
    "Méthode proposée:\n",
    "\n",
    "\tGénérer matrice métrique via Dijkstra entre points d’intérêt.\n",
    "\n",
    "\tConstruire solution initiale via MST/Prim ou insertion gloutonne.\n",
    "\n",
    "\tAppliquer améliorations locales (2-opt → 3-opt → Lin-Kernighan si besoin).\n",
    "\n",
    "\tÉtendre l’approche pour multi-véhicules avec un split (partitionner tournée TSP en k tours), ou utiliser une méthode dédiée (LNS, algorithme génétique hybride).\n",
    "\n",
    "Contraintes choisies : intégration et justification:\n",
    "\n",
    "Points de collecte (pickup → delivery) — version avancée \n",
    "\n",
    "Description et exigence:\n",
    "\n",
    "Un objet doit être récupéré à un point P (pickup) puis livré à D (delivery). L’ordre P→D doit être respecté ; la capacité disponible au moment du pickup et du trajet entre P et D doit être prise en compte.\n",
    "\n",
    "Comment l’intégrer ?  \n",
    "\n",
    "\tReprésenter chaque paire comme deux sommets liés par la contrainte pickup_before_delivery.\n",
    "\tLors de génération/évaluation d’une solution, vérifier l’ordre : tout index(P) < index(D).\n",
    "\tDans les opérateurs de voisinage, créer variants qui préservent l’ordre (par ex. déplacer à l’intérieur de la même tournée avec vérification ou déplacement symétrique des deux sommets).\n",
    "\tTenir compte de la charge : après pickup, la charge du véhicule augmente ; la capacité doit rester respectée jusqu’à la livraison.\n",
    "\n",
    "Pourquoi c’est intéressant pour ADEME ?\n",
    "\n",
    "\tC’est très pertinent pour la logistique urbaine (retours de colis, collecte sélective, transport d’équipements) ; montre la capacité de votre méthode à gérer contraintes réelles.\n",
    "\n",
    "\tCa rend le modèle industriel, donc favorable pour un financement orienté expérimentation.\n",
    "\n",
    "Complexité et impact:\n",
    "\n",
    "\tRéduit l’espace des solutions (certaines permutations deviennent invalides), rendant la recherche plus délicate.\n",
    "\n",
    "\tNécessite opérateurs spécialisés (insertions de paires, heuristiques dédiées).\n",
    "\n",
    "Flotte hétérogène (version simple )\n",
    "\n",
    "Description et exigence:\n",
    "\n",
    "Plusieurs types de véhicules disponibles (différentes capacités, types d’énergie, coûts fixes/variables). Certains clients peuvent n’être compatibles qu’avec certains types.\n",
    "\n",
    "Comment l’intégrer ?\n",
    "\n",
    "\tDéfinir une classe Véhicule avec id, type, capacité\n",
    "\n",
    "\tLors de l’affectation, respecter point.est_compatible(vehicule.type).\n",
    "\n",
    "\tObjectif peut passer de 'minimiser somme des temps' à 'minimiser makespan' ou coût total (coûts variables + fixes).\n",
    "\n",
    "Pourquoi c’est pertinent ?\n",
    "\n",
    "\tModèle fréquent en pratique (flotte mixte diesel/électrique, camions légers vs poids lourds).\n",
    "\n",
    "\tAugmente la portée industrielle du projet sans ajouter la complexité extrême des fenêtres temporelles ou du temps-dépendant complet.\n",
    "\n",
    "Impact algorithmique:\n",
    " \n",
    "\tNécessite un critère d’affectation (heuristique d’insertion qui tient compte capacité et compatibilité).\n",
    "\tLe split d’une tournée en plusieurs selon types de véhicules ou la construction de tours par dépôt/type est une phase clé ; LNS ou heuristiques d’affectation sont bien adaptées.\n"
   ]
  },
  {
   "cell_type": "markdown",
   "id": "fc30ace7-10cb-4a0c-905d-b1d8b1621cc5",
   "metadata": {},
   "source": [
    "# 6. Complexite du probleme"
   ]
  },
  {
   "cell_type": "markdown",
   "id": "3ebddd1b-0546-48fb-ae8c-344abd759f35",
   "metadata": {},
   "source": [
    "(À compléter -> Oumar + les autres)"
   ]
  },
  {
   "cell_type": "markdown",
   "id": "a60d1cd0",
   "metadata": {},
   "source": [
    "# 7. Conclusion"
   ]
  },
  {
   "cell_type": "markdown",
   "id": "7f6a5239",
   "metadata": {},
   "source": [
    "(À compléter -> Tout le monde)"
   ]
  },
  {
   "cell_type": "markdown",
   "id": "9c579d8f",
   "metadata": {},
   "source": [
    "Ce premier livrable permet de confirmer les préparatifs du projet en confirmant plusieurs points de réflexions qui vont déterminer le <b>temps</b> que nous prendra ce projet.\n",
    "\n",
    "Le fait de résumer le contexte depuis le <b>cahier des charges</b> nous a permis de mieux cerner la situation que <b>l'ADEME</b> fait actuellement face. Cela nous a permis de distinguer les informations les plus utiles pour mener à bien le projet.\n",
    "\n",
    "De ce fait, une formulation de la <b>problématique</b> a pu se faire de manière claire et concise. Ainsi, nous avons obtenu un objectif précis qui va permettre de résoudre le problème pour répondre aux besoins de l'ADEME.\n",
    "\n",
    "Un bref rappel de quelque <b>propriété théorique</b> a permis à notre équipe de bien discerner les différents éléments scientifiques qui nous seront utile d'un point de vue technique pour mener à bien le projet sans trop de difficulté.\n",
    "\n",
    "Nous avons alors pu réfléchir en amont à la manière dont nous allons <b>modéliser</b> le contexte d'un point de vue théorique.\n",
    "\n",
    "Ainsi, cela nous a permis de mieux réfléchir sur le <b>choix des contraintes</b> ce qui nous va nous permettre d'avoir une simulation à la fois cohérente et réaliste pour notre future production.\n",
    "\n",
    "Ayant alors une bonne vue d'ensemble de la manière dont nous allons modéliser les données, nous avons analyser la <b>complexité</b> de notre modélisation.\n",
    "\n",
    "Cela nous a amenés à penser à des solutions adapter à ces complexités afin de pouvoir produire quelque chose de <b>fiable</b> et <b>optimal</b>.\n"
   ]
  },
  {
   "cell_type": "markdown",
   "id": "3f6f05ce-7dce-4163-ba76-5e339f756d23",
   "metadata": {},
   "source": [
    "# 8. Bibliographie"
   ]
  },
  {
   "cell_type": "markdown",
   "id": "66432e0e-90c4-40e3-99ae-55cada63b112",
   "metadata": {},
   "source": [
    "(À compléter -> Tout le monde)"
   ]
  },
  {
   "cell_type": "markdown",
   "id": "047da987-a05d-4251-b518-f754ff03f9c8",
   "metadata": {},
   "source": [
    "Site qui explique comment implémenter des graphes et appliquer des algorithmes connues d'un point de vue informatique :\n",
    "https://www.geeksforgeeks.org/dsa/graph-data-structure-and-algorithms/"
   ]
  }
 ],
 "metadata": {
  "kernelspec": {
   "display_name": "Python 3 (ipykernel)",
   "language": "python",
   "name": "python3"
  },
  "language_info": {
   "codemirror_mode": {
    "name": "ipython",
    "version": 3
   },
   "file_extension": ".py",
   "mimetype": "text/x-python",
   "name": "python",
   "nbconvert_exporter": "python",
   "pygments_lexer": "ipython3",
   "version": "3.12.11"
  }
 },
 "nbformat": 4,
 "nbformat_minor": 5
}
